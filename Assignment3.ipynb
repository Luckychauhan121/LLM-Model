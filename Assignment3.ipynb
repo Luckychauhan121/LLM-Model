{
  "nbformat": 4,
  "nbformat_minor": 0,
  "metadata": {
    "colab": {
      "provenance": []
    },
    "kernelspec": {
      "name": "python3",
      "display_name": "Python 3"
    },
    "language_info": {
      "name": "python"
    }
  },
  "cells": [
    {
      "cell_type": "markdown",
      "source": [
        "#Using `LangChain` for Prompt Engineering"
      ],
      "metadata": {
        "id": "KyX90VY4i7Y9"
      }
    },
    {
      "cell_type": "markdown",
      "source": [
        "##Q0: Loading OpenAI API key"
      ],
      "metadata": {
        "id": "JPkbs259XQ9t"
      }
    },
    {
      "cell_type": "code",
      "source": [
        "!pip install openai==0.28.1"
      ],
      "metadata": {
        "id": "CR52h7TlXX5P"
      },
      "execution_count": null,
      "outputs": []
    },
    {
      "cell_type": "code",
      "source": [
        "from google.colab import drive\n",
        "drive.mount('/content/drive/')"
      ],
      "metadata": {
        "id": "0wLnzuBTXZ_R",
        "outputId": "1e50e980-8d6a-459b-ca51-694de16119ea",
        "colab": {
          "base_uri": "https://localhost:8080/"
        }
      },
      "execution_count": null,
      "outputs": [
        {
          "output_type": "stream",
          "name": "stdout",
          "text": [
            "Drive already mounted at /content/drive/; to attempt to forcibly remount, call drive.mount(\"/content/drive/\", force_remount=True).\n"
          ]
        }
      ]
    },
    {
      "cell_type": "code",
      "source": [
        "config_ini_location = '/content/drive/MyDrive/Colab Notebooks/config.ini' # Change this to point to the location of your config.ini file.\n",
        "\n",
        "import configparser\n",
        "\n",
        "config = configparser.ConfigParser()\n",
        "config.read(config_ini_location)\n",
        "openai_api_key = config['OpenAI']['API_KEY']"
      ],
      "metadata": {
        "id": "sEUeXLsOXb2R"
      },
      "execution_count": null,
      "outputs": []
    },
    {
      "cell_type": "markdown",
      "source": [
        "## Q1: FiniBot, financial advising simplified!"
      ],
      "metadata": {
        "id": "6QOIueVJiup4"
      }
    },
    {
      "cell_type": "markdown",
      "source": [
        "As we have seen in class, breaking a prompt down into chains is useful and, if engineered well, returns better and more reliably responses.\n",
        "\n",
        "[In class](https://github.com/elhamod/IS883/blob/main/Prompt_Engineering_Agents.ipynb), we have seen the most basic form of chains, a `SequentialChain`. However, other more sophisticated chains exist. Here, you will explore a [`RouterChain`](https://python.langchain.com/docs/modules/chains/foundational/router#legacy-routerchain). This chain acts like a switch. Given a condition, it decided which prompt to use. This is in contrast to the deterministic sequantial nature of `SequentialChain`.\n",
        "\n",
        "Using `RouterChain`, and in a manner similar to [`LangChain` in-class demo](https://github.com/elhamod/IS883/blob/main/Prompt_Engineering_Agents.ipynb), write a solution for the following scenario:\n",
        "\n",
        "-----------------------------------\n",
        "You are creating a financial advising ChatBot, FiniBot. Yor clients will fill out [the following csv file](https://docs.google.com/spreadsheets/d/1wJHJE7hrXcedpk9bTQ0oulwTTs41wu32TPTw0FebwXw/edit?usp=sharing), which contains a cell for savings, another for monthly debt, and finally a cell for monthly income. You ChatBot will\n",
        " 1. Download the file as an `.csv` to your Google Drive.\n",
        " 2. Load the file to the notebook.\n",
        " 3. Based on the content of the file, describe your client's situation objectively and in one of two levels: \"Novice\" and \"Expert\".\n",
        " 4. Based on the client's situation:\n",
        " - If your client's [debt ratio](https://www.investopedia.com/ask/answers/081214/whats-considered-be-good-debttoincome-dti-ratio.asp#:~:text=Lenders%2C%20including%20anyone%20who%20might,lenders%20prefer%2036%25%20or%20below.) is less than 0.3, then FiniBot will commend the client's financial accomplishment and then turn into an investment advisor. It will advise to invest their money and provide them with an investment portfolio based on their savings and using 5 stocks.\n",
        " - Otherwise, FiniBot will politely and cautiously, without taking them on a guilt trip, warn the client about their financial situation. It will then turn into a debt advisor, and create a plan for them to pay off their debt by allocating 10% of their income for monthly debt payments.\n",
        "---------------------------------------\n",
        "\n",
        "The final output of your code should be (as text):\n",
        "---------------------------\n",
        "<pre>\n",
        " - Total savings:  < value >\n",
        " - Monthly debt: < value >\n",
        " - Monthly income: < value >\n",
        "\n",
        " - Financial situation:\n",
        " < Your ChatBots Financial summary in \"Novice\" or \"Expert\" tone >\n",
        "\n",
        "- Recommendation:\n",
        " < Your advisor's output >\n",
        " </pre>\n",
        "-----------------\n"
      ],
      "metadata": {
        "id": "xfJfAyrYGKl3"
      }
    },
    {
      "cell_type": "code",
      "source": [
        "!pip install langchain -q"
      ],
      "metadata": {
        "id": "yH7YpTeN11Lz"
      },
      "execution_count": null,
      "outputs": []
    },
    {
      "cell_type": "markdown",
      "source": [
        "Step 1: Load the `.csv` file as text. You can use [`CSVLoader`](https://python.langchain.com/docs/integrations/document_loaders/csv)"
      ],
      "metadata": {
        "id": "EKXYtaSG0zd-"
      }
    },
    {
      "cell_type": "code",
      "source": [
        "csv_path = \"/content/drive/MyDrive/IS883_HW3/IS883_Assignment3_FiniBot.csv\"\n",
        "\n"
      ],
      "metadata": {
        "id": "hA-HDbuz1lKr"
      },
      "execution_count": null,
      "outputs": []
    },
    {
      "cell_type": "code",
      "source": [
        "from langchain.document_loaders.csv_loader import CSVLoader\n",
        "\n",
        "def csvLoader (csv_file_path):\n",
        "  loader = CSVLoader(csv_file_path)\n",
        "  data = loader.load()\n",
        "  return data[0].page_content\n"
      ],
      "metadata": {
        "id": "AdlY9ht0dwyi"
      },
      "execution_count": null,
      "outputs": []
    },
    {
      "cell_type": "code",
      "source": [
        "data = csvLoader(csv_path)\n",
        "print(data)"
      ],
      "metadata": {
        "colab": {
          "base_uri": "https://localhost:8080/"
        },
        "id": "l4cgMUlReR_H",
        "outputId": "db74224c-79d1-48dd-b5ef-d509f75474cd"
      },
      "execution_count": null,
      "outputs": [
        {
          "output_type": "stream",
          "name": "stdout",
          "text": [
            "savings: $4,000.00\n",
            "credit card debt: $5,000.00\n",
            "income: $20,000.00\n"
          ]
        }
      ]
    },
    {
      "cell_type": "markdown",
      "source": [
        "Here, define `Output_template`, the text that contains the formatted output message as described above. This template has `{input}` as input string. Assume that `{input}` contains the final variables of interest: the input savings, debt, income, and output summary."
      ],
      "metadata": {
        "id": "4hqcNOZ04ib-"
      }
    },
    {
      "cell_type": "code",
      "source": [
        "Output_template=\"\"\"\n",
        "You will get financial data. Please format it as below:\\\n",
        "\"Financial Analysis Summary\" should describe the clients debt ratio and summarize the financial situation.\\\n",
        "\"Recommendation\" should suggest a strategy for the client.\\\n",
        "\n",
        "--------------------------\n",
        "Input Details:\n",
        "- Savings:\n",
        "- Debt:\n",
        "- Income:\n",
        "Financial Analysis Summary\n",
        "Recommendation\n",
        "\n",
        "\"\"\""
      ],
      "metadata": {
        "id": "EMqMRV1xPhBt"
      },
      "execution_count": null,
      "outputs": []
    },
    {
      "cell_type": "markdown",
      "source": [
        "Here define the `investmet_template`, which should act as the prompt template used when the investment advisor is selected. This template has {input} as input string. Assume that {input} contains the final variables of interest: the input savings, debt, income, and output summary."
      ],
      "metadata": {
        "id": "DMYa7lnK5Z39"
      }
    },
    {
      "cell_type": "code",
      "source": [
        "investment_template =\"\"\"\n",
        "Based on the data in {input} become the clients investment advisor.\n",
        "First, commend the client because their debt ratio is less than 0.3\n",
        "Suggest 5 stocks for them to invest in.\n",
        "\"\"\" + Output_template"
      ],
      "metadata": {
        "id": "dkYmYMai7peB"
      },
      "execution_count": null,
      "outputs": []
    },
    {
      "cell_type": "markdown",
      "source": [
        "Here define the `debt_template`, which should act as the prompt template used when the debt advisor is selected. This template has {input} as input string. Assume that {input} contains the final variables of interest: the input savings, debt, income, and output summary."
      ],
      "metadata": {
        "id": "5YBkOfSC5oM7"
      }
    },
    {
      "cell_type": "code",
      "source": [
        "debt_template= \"\"\"\n",
        "Based on the data in {input} become the clients debt advisor.\n",
        "Without taking the client on a guilt trip, warn the cleint about their financial situation.\n",
        "Create a plan for them to pay their debt by allocating 10% of monthly income for debt repayment.\n",
        "\n",
        "\"\"\" + Output_template"
      ],
      "metadata": {
        "id": "oiCWTmcP7pgc"
      },
      "execution_count": null,
      "outputs": []
    },
    {
      "cell_type": "markdown",
      "source": [
        "Here, define the two possible routes that can be taken as described above. Follow the example shown [here](https://python.langchain.com/docs/modules/chains/foundational/router#legacy-routerchain).\n",
        "Each branch should define the **name** of the route, its **description** (which will be used to select the route), and the **template** that will be used for that route."
      ],
      "metadata": {
        "id": "i6toJclF5yRF"
      }
    },
    {
      "cell_type": "code",
      "source": [
        "routes= [\n",
        "    {\n",
        "        \"name\": \"investment_strategy_advice\",\n",
        "        \"description\": \"Delivers personalized recommendations for investing, based on the client's financial data.\",\n",
        "        \"template\": investment_template,\n",
        "    },\n",
        "    {\n",
        "        \"name\": \"debt_reduction_strategy\",\n",
        "        \"description\": \"Provides expert tips and methods for effective debt reduction and management.\",\n",
        "        \"template\": debt_template,\n",
        "    },\n",
        "]\n"
      ],
      "metadata": {
        "id": "RlBufkow7FqH"
      },
      "execution_count": null,
      "outputs": []
    },
    {
      "cell_type": "markdown",
      "source": [
        "Here, define the variable that sets the `level` of the returned summary."
      ],
      "metadata": {
        "id": "RHIIf-Kk6dOP"
      }
    },
    {
      "cell_type": "code",
      "source": [
        "level= \"Novice\" #\"Expert\""
      ],
      "metadata": {
        "id": "5_9rB2bvAj4M"
      },
      "execution_count": null,
      "outputs": []
    },
    {
      "cell_type": "markdown",
      "source": [
        "Create the `langchain.llms.OpenAI` language model. name it `llm`. As you progress with your assignment, consider what appropriate [parameters](https://api.python.langchain.com/en/latest/llms/langchain.llms.openai.OpenAI.html) to use here."
      ],
      "metadata": {
        "id": "iyE2feLR_0tA"
      }
    },
    {
      "cell_type": "code",
      "source": [
        "from langchain.llms import OpenAI\n",
        "from langchain.chat_models import ChatOpenAI\n",
        "\n",
        "llm = ChatOpenAI(openai_api_key=openai_api_key, model ='gpt-4')"
      ],
      "metadata": {
        "id": "ce6eVHkI_3bh"
      },
      "execution_count": null,
      "outputs": []
    },
    {
      "cell_type": "markdown",
      "source": [
        "**Answer:**\n"
      ],
      "metadata": {
        "id": "m5a-eSA59dTW"
      }
    },
    {
      "cell_type": "markdown",
      "source": [
        "Create a destination chain for each possible route. Follow the example shown [here](https://python.langchain.com/docs/modules/chains/foundational/router#legacy-routerchain)."
      ],
      "metadata": {
        "id": "AEZ6Qikm_vsP"
      }
    },
    {
      "cell_type": "code",
      "source": [
        "from langchain.prompts import PromptTemplate\n",
        "from langchain.chains.llm import LLMChain"
      ],
      "metadata": {
        "id": "KMYDPvoqf0MX"
      },
      "execution_count": null,
      "outputs": []
    },
    {
      "cell_type": "code",
      "source": [
        "from langchain.llms import OpenAI\n",
        "from langchain.chains import LLMChain\n",
        "from langchain.prompts import PromptTemplate\n",
        "\n",
        "destination_chains = {}\n",
        "for destination in routes:\n",
        "  name = destination['name']\n",
        "  prompt_template = destination['template']\n",
        "  prompt = PromptTemplate (template=prompt_template, input_variables=['input'])\n",
        "  chain = LLMChain(llm=llm, prompt=prompt)\n",
        "  destination_chains[name]=chain"
      ],
      "metadata": {
        "id": "_KnL_XZaBfH7"
      },
      "execution_count": null,
      "outputs": []
    },
    {
      "cell_type": "markdown",
      "source": [
        "Create a `financial_prompt` for summarizing the client's situation. Include the client's financial knowledge `{level}` as a parameter in this template.\n",
        "- Make sure to use the prompt engineering tips we used in class. You may find [these tips](https://pbs.twimg.com/media/F0RWXIjXgAARNAG?format=jpg&name=4096x4096) useful.\n",
        "- Make sure your prompt is talking the client as a chatbot, and not in 3rd person."
      ],
      "metadata": {
        "id": "zHpTg4nB2wss"
      }
    },
    {
      "cell_type": "code",
      "source": [
        "financial_prompt = \"\"\"\n",
        "Greetings! As your dedicated finance guide, my role is to assist you in navigating your financial landscape. Considering your self-assessed financial expertise, described as {level}, I will adjust my guidance to suit your understanding.\n",
        "\n",
        "Let's delve into your current financial status:\n",
        "\n",
        "1. **Earnings and Job Security**: Could you describe your main income sources and the stability of your job?\n",
        "\n",
        "2. **Outgoings and Financial Planning**: What does your typical monthly spending look like? Knowing your expenditure patterns is key to planning your finances effectively.\n",
        "\n",
        "3. **Reserves and Financial Ventures**: Do you hold any savings or have invested in any ventures? Please share details about these and your objectives for them.\n",
        "\n",
        "4. **Obligations and Dues**: Are there ongoing debts or financial commitments you are dealing with?\n",
        "\n",
        "5. **Economic Aspirations**: What are your immediate and long-range economic aspirations? This might range from budgeting for a special occasion to preparing for your golden years.\n",
        "\n",
        "Share what you feel comfortable with. My aim is to offer tailored financial counsel that aligns with your knowledge and assists in reaching your fiscal goals.\n",
        "\"\"\""
      ],
      "metadata": {
        "id": "-4ApwllP3FL0"
      },
      "execution_count": null,
      "outputs": []
    },
    {
      "cell_type": "markdown",
      "source": [
        "This template is needed by `RouterChain`."
      ],
      "metadata": {
        "id": "DWps8Owa99OC"
      }
    },
    {
      "cell_type": "code",
      "source": [
        "MULTI_PROMPT_ROUTER_TEMPLATE = \"\"\"\\\n",
        "Given a raw text input to a language model select the model prompt best suited for \\\n",
        "the input. You will be given the names of the available prompts and a description of \\\n",
        "what the prompt is best suited for. You may also revise the original input if you \\\n",
        "think that revising it will ultimately lead to a better response from the language \\\n",
        "model.\n",
        "\n",
        "<< FORMATTING >>\n",
        "Return a markdown code snippet with a JSON object formatted to look like:\n",
        "```json\n",
        "{{{{\n",
        "    \"destination\": string \\\\ name of the prompt to use or \"DEFAULT\"\n",
        "    \"next_inputs\": string \\\\ a modified version of the original input. It is modified to contain only: the \"savings\" value, the \"debt\" value, the \"income\" value, and the \"summary\" provided above.\n",
        "}}}}\n",
        "```\n",
        "\n",
        "REMEMBER: \"destination\" MUST be one of the candidate prompt names specified below OR \\\n",
        "it can be \"DEFAULT\" if the input is not well suited for any of the candidate prompts.\n",
        "REMEMBER: \"next_inputs\" is not the original input. It is modified to contain: the \"savings\" value, the \"debt\" value, the \"income\" value, and the \"summary\" provided above.\n",
        "\n",
        "<< CANDIDATE PROMPTS >>\n",
        "{destinations}\n",
        "\n",
        "<< INPUT >>\n",
        "{{input}}\n",
        "\n",
        "<< OUTPUT (must include ```json at the start of the response) >>\n",
        "<< OUTPUT (must end with ```) >>\n",
        "\"\"\"\n"
      ],
      "metadata": {
        "id": "QCDSO-wmMpZR"
      },
      "execution_count": null,
      "outputs": []
    },
    {
      "cell_type": "markdown",
      "source": [
        "The following code creates the routing template"
      ],
      "metadata": {
        "id": "XEMrItYm-d6Z"
      }
    },
    {
      "cell_type": "code",
      "source": [
        "prompt = financial_prompt + MULTI_PROMPT_ROUTER_TEMPLATE"
      ],
      "metadata": {
        "id": "xe3TDApM-3lk"
      },
      "execution_count": null,
      "outputs": []
    },
    {
      "cell_type": "code",
      "source": [
        "destinations = [f\"{route['name']}: {route['description']}\" for route in routes]\n",
        "destinations_str = \"\\n\".join(destinations)\n",
        "router_template = prompt.format(destinations=destinations_str, level=level)"
      ],
      "metadata": {
        "id": "aXIPMLm3-f06"
      },
      "execution_count": null,
      "outputs": []
    },
    {
      "cell_type": "code",
      "source": [
        "from langchain.chains.router.llm_router import LLMRouterChain, RouterOutputParser\n",
        "\n",
        "router_prompt = PromptTemplate(\n",
        "    template=router_template,\n",
        "    input_variables=[\"input\"],\n",
        "    output_parser=RouterOutputParser(),\n",
        ")\n",
        "router_chain = LLMRouterChain.from_llm(llm, router_prompt)"
      ],
      "metadata": {
        "id": "kea-sQDy-Wyc"
      },
      "execution_count": null,
      "outputs": []
    },
    {
      "cell_type": "code",
      "source": [
        "from langchain.chains.router import MultiPromptChain\n",
        "from langchain.chains import ConversationChain\n",
        "\n",
        "chain = MultiPromptChain(\n",
        "    router_chain=router_chain,\n",
        "    destination_chains=destination_chains,\n",
        "    default_chain=ConversationChain(llm=llm, output_key=\"text\"),\n",
        "    verbose=False,\n",
        ")"
      ],
      "metadata": {
        "id": "C0z3UgdABhF-"
      },
      "execution_count": null,
      "outputs": []
    },
    {
      "cell_type": "code",
      "source": [
        "print(chain.run(data))"
      ],
      "metadata": {
        "colab": {
          "base_uri": "https://localhost:8080/"
        },
        "id": "8yLnLvHmdrlR",
        "outputId": "3931dab9-2299-4524-827b-35f23e74ce55"
      },
      "execution_count": null,
      "outputs": [
        {
          "output_type": "stream",
          "name": "stderr",
          "text": [
            "/usr/local/lib/python3.10/dist-packages/langchain/chains/llm.py:316: UserWarning: The predict_and_parse method is deprecated, instead pass an output parser directly to LLMChain.\n",
            "  warnings.warn(\n"
          ]
        },
        {
          "output_type": "stream",
          "name": "stdout",
          "text": [
            "Input Details:\n",
            "- Savings: $4,000.00\n",
            "- Debt: $5,000.00\n",
            "- Income: $20,000.00\n",
            "\n",
            "Financial Analysis Summary:\n",
            "Based on the provided financial data, the client's debt ratio is 25% (debt/income x 100), which is above the generally recommended debt ratio of 20%. This means that a significant proportion of the client's income is tied up in dealing with debt. Moreover, the client's savings of $4,000.00 cannot fully cover the credit card debt of $5,000.00. This financial situation is concerning and needs immediate attention to avoid any further financial distress.\n",
            "\n",
            "Recommendation:\n",
            "To manage and reduce the debt, it is advisable to allocate 10% of the monthly income towards debt repayment. This would translate to around $167 per month. At this rate, without accruing additional interest, the debt could be fully repaid in approximately 30 months. It's important to make these payments consistently and avoid incurring additional debt if possible. Additionally, consider finding ways to increase income or decrease expenses to free up more money for debt repayment. This could include cutting back on non-essential spending or seeking additional part-time work. Remember, the key is to remain consistent, patient, and disciplined throughout this process.\n"
          ]
        }
      ]
    },
    {
      "cell_type": "markdown",
      "source": [
        "Now, try it! Write a code that:\n",
        "- Turns `langchain.debug` on so you could see what it going on.\n",
        "- Runs the `chain` we created above."
      ],
      "metadata": {
        "id": "V2Gr95RhBpYY"
      }
    },
    {
      "cell_type": "code",
      "source": [
        "from langchain.globals import set_debug\n",
        "set_debug(True)"
      ],
      "metadata": {
        "id": "hSdXOqD2jKQh"
      },
      "execution_count": null,
      "outputs": []
    },
    {
      "cell_type": "code",
      "source": [
        "print(chain.run(data))"
      ],
      "metadata": {
        "colab": {
          "base_uri": "https://localhost:8080/"
        },
        "id": "5WP_CeYO0OaE",
        "outputId": "e6d5d413-3672-451c-cd80-ca51635a22a7"
      },
      "execution_count": null,
      "outputs": [
        {
          "output_type": "stream",
          "name": "stdout",
          "text": [
            "\u001b[32;1m\u001b[1;3m[chain/start]\u001b[0m \u001b[1m[1:chain:MultiPromptChain] Entering Chain run with input:\n",
            "\u001b[0m{\n",
            "  \"input\": \"savings: $4,000.00\\ncredit card debt: $5,000.00\\nincome: $20,000.00\"\n",
            "}\n",
            "\u001b[32;1m\u001b[1;3m[chain/start]\u001b[0m \u001b[1m[1:chain:MultiPromptChain > 2:chain:LLMRouterChain] Entering Chain run with input:\n",
            "\u001b[0m{\n",
            "  \"input\": \"savings: $4,000.00\\ncredit card debt: $5,000.00\\nincome: $20,000.00\"\n",
            "}\n",
            "\u001b[32;1m\u001b[1;3m[chain/start]\u001b[0m \u001b[1m[1:chain:MultiPromptChain > 2:chain:LLMRouterChain > 3:chain:LLMChain] Entering Chain run with input:\n",
            "\u001b[0m{\n",
            "  \"input\": \"savings: $4,000.00\\ncredit card debt: $5,000.00\\nincome: $20,000.00\"\n",
            "}\n",
            "\u001b[32;1m\u001b[1;3m[llm/start]\u001b[0m \u001b[1m[1:chain:MultiPromptChain > 2:chain:LLMRouterChain > 3:chain:LLMChain > 4:llm:ChatOpenAI] Entering LLM run with input:\n",
            "\u001b[0m{\n",
            "  \"prompts\": [\n",
            "    \"Human: \\nGreetings! As your dedicated finance guide, my role is to assist you in navigating your financial landscape. Considering your self-assessed financial expertise, described as Novice, I will adjust my guidance to suit your understanding.\\n\\nLet's delve into your current financial status:\\n\\n1. **Earnings and Job Security**: Could you describe your main income sources and the stability of your job?\\n\\n2. **Outgoings and Financial Planning**: What does your typical monthly spending look like? Knowing your expenditure patterns is key to planning your finances effectively.\\n\\n3. **Reserves and Financial Ventures**: Do you hold any savings or have invested in any ventures? Please share details about these and your objectives for them.\\n\\n4. **Obligations and Dues**: Are there ongoing debts or financial commitments you are dealing with?\\n\\n5. **Economic Aspirations**: What are your immediate and long-range economic aspirations? This might range from budgeting for a special occasion to preparing for your golden years.\\n\\nShare what you feel comfortable with. My aim is to offer tailored financial counsel that aligns with your knowledge and assists in reaching your fiscal goals.\\nGiven a raw text input to a language model select the model prompt best suited for the input. You will be given the names of the available prompts and a description of what the prompt is best suited for. You may also revise the original input if you think that revising it will ultimately lead to a better response from the language model.\\n\\n<< FORMATTING >>\\nReturn a markdown code snippet with a JSON object formatted to look like:\\n```json\\n{\\n    \\\"destination\\\": string \\\\ name of the prompt to use or \\\"DEFAULT\\\"\\n    \\\"next_inputs\\\": string \\\\ a modified version of the original input. It is modified to contain only: the \\\"savings\\\" value, the \\\"debt\\\" value, the \\\"income\\\" value, and the \\\"summary\\\" provided above.\\n}\\n```\\n\\nREMEMBER: \\\"destination\\\" MUST be one of the candidate prompt names specified below OR it can be \\\"DEFAULT\\\" if the input is not well suited for any of the candidate prompts.\\nREMEMBER: \\\"next_inputs\\\" is not the original input. It is modified to contain: the \\\"savings\\\" value, the \\\"debt\\\" value, the \\\"income\\\" value, and the \\\"summary\\\" provided above.\\n\\n<< CANDIDATE PROMPTS >>\\ninvestment_strategy_advice: Delivers personalized recommendations for investing, based on the client's financial data.\\ndebt_reduction_strategy: Provides expert tips and methods for effective debt reduction and management.\\n\\n<< INPUT >>\\nsavings: $4,000.00\\ncredit card debt: $5,000.00\\nincome: $20,000.00\\n\\n<< OUTPUT (must include ```json at the start of the response) >>\\n<< OUTPUT (must end with ```) >>\"\n",
            "  ]\n",
            "}\n"
          ]
        },
        {
          "output_type": "stream",
          "name": "stderr",
          "text": [
            "/usr/local/lib/python3.10/dist-packages/langchain/chains/llm.py:316: UserWarning: The predict_and_parse method is deprecated, instead pass an output parser directly to LLMChain.\n",
            "  warnings.warn(\n"
          ]
        },
        {
          "output_type": "stream",
          "name": "stdout",
          "text": [
            "\u001b[36;1m\u001b[1;3m[llm/end]\u001b[0m \u001b[1m[1:chain:MultiPromptChain > 2:chain:LLMRouterChain > 3:chain:LLMChain > 4:llm:ChatOpenAI] [4.97s] Exiting LLM run with output:\n",
            "\u001b[0m{\n",
            "  \"generations\": [\n",
            "    [\n",
            "      {\n",
            "        \"text\": \"```json\\n{\\n    \\\"destination\\\": \\\"debt_reduction_strategy\\\",\\n    \\\"next_inputs\\\": \\\"savings: $4,000.00, credit card debt: $5,000.00, income: $20,000.00\\\"\\n}\\n```\",\n",
            "        \"generation_info\": {\n",
            "          \"finish_reason\": \"stop\"\n",
            "        },\n",
            "        \"type\": \"ChatGeneration\",\n",
            "        \"message\": {\n",
            "          \"lc\": 1,\n",
            "          \"type\": \"constructor\",\n",
            "          \"id\": [\n",
            "            \"langchain_core\",\n",
            "            \"messages\",\n",
            "            \"ai\",\n",
            "            \"AIMessage\"\n",
            "          ],\n",
            "          \"kwargs\": {\n",
            "            \"content\": \"```json\\n{\\n    \\\"destination\\\": \\\"debt_reduction_strategy\\\",\\n    \\\"next_inputs\\\": \\\"savings: $4,000.00, credit card debt: $5,000.00, income: $20,000.00\\\"\\n}\\n```\",\n",
            "            \"additional_kwargs\": {}\n",
            "          }\n",
            "        }\n",
            "      }\n",
            "    ]\n",
            "  ],\n",
            "  \"llm_output\": {\n",
            "    \"token_usage\": {\n",
            "      \"prompt_tokens\": 586,\n",
            "      \"completion_tokens\": 52,\n",
            "      \"total_tokens\": 638\n",
            "    },\n",
            "    \"model_name\": \"gpt-4\",\n",
            "    \"system_fingerprint\": \"\"\n",
            "  },\n",
            "  \"run\": null\n",
            "}\n",
            "\u001b[36;1m\u001b[1;3m[chain/end]\u001b[0m \u001b[1m[1:chain:MultiPromptChain > 2:chain:LLMRouterChain > 3:chain:LLMChain] [4.97s] Exiting Chain run with output:\n",
            "\u001b[0m{\n",
            "  \"text\": \"```json\\n{\\n    \\\"destination\\\": \\\"debt_reduction_strategy\\\",\\n    \\\"next_inputs\\\": \\\"savings: $4,000.00, credit card debt: $5,000.00, income: $20,000.00\\\"\\n}\\n```\"\n",
            "}\n",
            "\u001b[36;1m\u001b[1;3m[chain/end]\u001b[0m \u001b[1m[1:chain:MultiPromptChain > 2:chain:LLMRouterChain] [4.97s] Exiting Chain run with output:\n",
            "\u001b[0m{\n",
            "  \"destination\": \"debt_reduction_strategy\",\n",
            "  \"next_inputs\": {\n",
            "    \"input\": \"savings: $4,000.00, credit card debt: $5,000.00, income: $20,000.00\"\n",
            "  }\n",
            "}\n",
            "\u001b[32;1m\u001b[1;3m[chain/start]\u001b[0m \u001b[1m[1:chain:MultiPromptChain > 5:chain:LLMChain] Entering Chain run with input:\n",
            "\u001b[0m{\n",
            "  \"input\": \"savings: $4,000.00, credit card debt: $5,000.00, income: $20,000.00\"\n",
            "}\n",
            "\u001b[32;1m\u001b[1;3m[llm/start]\u001b[0m \u001b[1m[1:chain:MultiPromptChain > 5:chain:LLMChain > 6:llm:ChatOpenAI] Entering LLM run with input:\n",
            "\u001b[0m{\n",
            "  \"prompts\": [\n",
            "    \"Human: \\nBased on the data in savings: $4,000.00, credit card debt: $5,000.00, income: $20,000.00 become the clients debt advisor.\\nWithout taking the client on a guilt trip, warn the cleint about their financial situation.\\nCreate a plan for them to pay their debt by allocating 10% of monthly income for debt repayment.\\n\\n\\nYou will get financial data. Please format it as below:\\\"Financial Analysis Summary\\\" should describe the clients debt ratio and summarize the financial situation.\\\"Recommendation\\\" should suggest a strategy for the client.\\n--------------------------\\nInput Details:\\n- Savings:\\n- Debt: \\n- Income:\\nFinancial Analysis Summary\\nRecommendation\"\n",
            "  ]\n",
            "}\n",
            "\u001b[36;1m\u001b[1;3m[llm/end]\u001b[0m \u001b[1m[1:chain:MultiPromptChain > 5:chain:LLMChain > 6:llm:ChatOpenAI] [26.10s] Exiting LLM run with output:\n",
            "\u001b[0m{\n",
            "  \"generations\": [\n",
            "    [\n",
            "      {\n",
            "        \"text\": \"Input Details:\\n- Savings: $4,000.00\\n- Debt: $5,000.00\\n- Income: $20,000.00\\n\\nFinancial Analysis Summary:\\nBased on the information provided, your current debt ratio is 25% (debt divided by income). This indicates that a quarter of your income is consumed by debt, which is a significant proportion. Additionally, your savings aren't sufficient to cover your debt. In fact, you owe $1,000 more than what you currently have in savings. \\n\\nRecommendation:\\nIt's clear that your debt needs to be addressed immediately to avoid any future financial distress. Given your income, allocating 10% of your monthly income (i.e., $166.67 per month) towards debt repayment would be a good starting point. In about 30 months, you'll be able to completely clear your debt, not including any interest that may accrue. \\n\\nHowever, this is a conservative approach and if you could allocate a higher percentage of your income towards debt repayment, the debt could be cleared quicker. It's also essential to try and reduce unnecessary expenditure and possibly consider ways to increase your income. A personal budget should be implemented to effectively manage your income, expenses, and savings. \\n\\nRemember, the journey to financial freedom often requires sacrifices, but the end result is worth it. You have the power to change your financial situation. Let's take this one step at a time, together.\",\n",
            "        \"generation_info\": {\n",
            "          \"finish_reason\": \"stop\"\n",
            "        },\n",
            "        \"type\": \"ChatGeneration\",\n",
            "        \"message\": {\n",
            "          \"lc\": 1,\n",
            "          \"type\": \"constructor\",\n",
            "          \"id\": [\n",
            "            \"langchain_core\",\n",
            "            \"messages\",\n",
            "            \"ai\",\n",
            "            \"AIMessage\"\n",
            "          ],\n",
            "          \"kwargs\": {\n",
            "            \"content\": \"Input Details:\\n- Savings: $4,000.00\\n- Debt: $5,000.00\\n- Income: $20,000.00\\n\\nFinancial Analysis Summary:\\nBased on the information provided, your current debt ratio is 25% (debt divided by income). This indicates that a quarter of your income is consumed by debt, which is a significant proportion. Additionally, your savings aren't sufficient to cover your debt. In fact, you owe $1,000 more than what you currently have in savings. \\n\\nRecommendation:\\nIt's clear that your debt needs to be addressed immediately to avoid any future financial distress. Given your income, allocating 10% of your monthly income (i.e., $166.67 per month) towards debt repayment would be a good starting point. In about 30 months, you'll be able to completely clear your debt, not including any interest that may accrue. \\n\\nHowever, this is a conservative approach and if you could allocate a higher percentage of your income towards debt repayment, the debt could be cleared quicker. It's also essential to try and reduce unnecessary expenditure and possibly consider ways to increase your income. A personal budget should be implemented to effectively manage your income, expenses, and savings. \\n\\nRemember, the journey to financial freedom often requires sacrifices, but the end result is worth it. You have the power to change your financial situation. Let's take this one step at a time, together.\",\n",
            "            \"additional_kwargs\": {}\n",
            "          }\n",
            "        }\n",
            "      }\n",
            "    ]\n",
            "  ],\n",
            "  \"llm_output\": {\n",
            "    \"token_usage\": {\n",
            "      \"prompt_tokens\": 147,\n",
            "      \"completion_tokens\": 295,\n",
            "      \"total_tokens\": 442\n",
            "    },\n",
            "    \"model_name\": \"gpt-4\",\n",
            "    \"system_fingerprint\": \"\"\n",
            "  },\n",
            "  \"run\": null\n",
            "}\n",
            "\u001b[36;1m\u001b[1;3m[chain/end]\u001b[0m \u001b[1m[1:chain:MultiPromptChain > 5:chain:LLMChain] [26.10s] Exiting Chain run with output:\n",
            "\u001b[0m{\n",
            "  \"text\": \"Input Details:\\n- Savings: $4,000.00\\n- Debt: $5,000.00\\n- Income: $20,000.00\\n\\nFinancial Analysis Summary:\\nBased on the information provided, your current debt ratio is 25% (debt divided by income). This indicates that a quarter of your income is consumed by debt, which is a significant proportion. Additionally, your savings aren't sufficient to cover your debt. In fact, you owe $1,000 more than what you currently have in savings. \\n\\nRecommendation:\\nIt's clear that your debt needs to be addressed immediately to avoid any future financial distress. Given your income, allocating 10% of your monthly income (i.e., $166.67 per month) towards debt repayment would be a good starting point. In about 30 months, you'll be able to completely clear your debt, not including any interest that may accrue. \\n\\nHowever, this is a conservative approach and if you could allocate a higher percentage of your income towards debt repayment, the debt could be cleared quicker. It's also essential to try and reduce unnecessary expenditure and possibly consider ways to increase your income. A personal budget should be implemented to effectively manage your income, expenses, and savings. \\n\\nRemember, the journey to financial freedom often requires sacrifices, but the end result is worth it. You have the power to change your financial situation. Let's take this one step at a time, together.\"\n",
            "}\n",
            "\u001b[36;1m\u001b[1;3m[chain/end]\u001b[0m \u001b[1m[1:chain:MultiPromptChain] [31.08s] Exiting Chain run with output:\n",
            "\u001b[0m{\n",
            "  \"input\": \"savings: $4,000.00, credit card debt: $5,000.00, income: $20,000.00\",\n",
            "  \"text\": \"Input Details:\\n- Savings: $4,000.00\\n- Debt: $5,000.00\\n- Income: $20,000.00\\n\\nFinancial Analysis Summary:\\nBased on the information provided, your current debt ratio is 25% (debt divided by income). This indicates that a quarter of your income is consumed by debt, which is a significant proportion. Additionally, your savings aren't sufficient to cover your debt. In fact, you owe $1,000 more than what you currently have in savings. \\n\\nRecommendation:\\nIt's clear that your debt needs to be addressed immediately to avoid any future financial distress. Given your income, allocating 10% of your monthly income (i.e., $166.67 per month) towards debt repayment would be a good starting point. In about 30 months, you'll be able to completely clear your debt, not including any interest that may accrue. \\n\\nHowever, this is a conservative approach and if you could allocate a higher percentage of your income towards debt repayment, the debt could be cleared quicker. It's also essential to try and reduce unnecessary expenditure and possibly consider ways to increase your income. A personal budget should be implemented to effectively manage your income, expenses, and savings. \\n\\nRemember, the journey to financial freedom often requires sacrifices, but the end result is worth it. You have the power to change your financial situation. Let's take this one step at a time, together.\"\n",
            "}\n",
            "Input Details:\n",
            "- Savings: $4,000.00\n",
            "- Debt: $5,000.00\n",
            "- Income: $20,000.00\n",
            "\n",
            "Financial Analysis Summary:\n",
            "Based on the information provided, your current debt ratio is 25% (debt divided by income). This indicates that a quarter of your income is consumed by debt, which is a significant proportion. Additionally, your savings aren't sufficient to cover your debt. In fact, you owe $1,000 more than what you currently have in savings. \n",
            "\n",
            "Recommendation:\n",
            "It's clear that your debt needs to be addressed immediately to avoid any future financial distress. Given your income, allocating 10% of your monthly income (i.e., $166.67 per month) towards debt repayment would be a good starting point. In about 30 months, you'll be able to completely clear your debt, not including any interest that may accrue. \n",
            "\n",
            "However, this is a conservative approach and if you could allocate a higher percentage of your income towards debt repayment, the debt could be cleared quicker. It's also essential to try and reduce unnecessary expenditure and possibly consider ways to increase your income. A personal budget should be implemented to effectively manage your income, expenses, and savings. \n",
            "\n",
            "Remember, the journey to financial freedom often requires sacrifices, but the end result is worth it. You have the power to change your financial situation. Let's take this one step at a time, together.\n"
          ]
        }
      ]
    },
    {
      "cell_type": "markdown",
      "source": [
        "Answer the following questions:\n",
        "\n",
        "\n",
        "\n",
        "1.   Iteratively improve your code and prompts until you achieve the desired output.\n",
        "\n",
        "  - Enumerate and describe the steps the chain is taking to produce the final output by taking a look at the debugging output.\n",
        "\n",
        "**Answer**: Input Processing: The input is initially received and passed through the router chain.\n",
        "\n",
        "Routing Decision: The router evaluates the input against the criteria defined in your BooleanEvaluator or similar function to decide which destination chain to use.\n",
        "\n",
        "Destination Chain Execution: Depending on the routing decision, either the investment advice chain or the debt management chain is executed.\n",
        "\n",
        "Response Generation: The selected chain processes the input according to its template and settings and generates a response.\n",
        "\n",
        "Final Output: The response from the destination chain is returned as the final output.\n",
        "\n",
        "\n",
        "\n",
        "\n",
        "  - Does the final output match expectation? If not, what are the \"bugs\" from the client's perspective and what's your justification for their occurance?\n",
        "\n",
        "**Answer**: Assessment: You'll need to compare the final output with the expected result. Does it accurately reflect the client’s financial situation and provide relevant advice?\n",
        "\n",
        "Identifying Bugs: If there are discrepancies, identify where they occur. Is it a routing issue (wrong chain selected) or a problem with how the prompt is interpreted by the language model?\n",
        "\n",
        "Justification for Occurrence: Reasons for these discrepancies could include insufficiently detailed prompts, misinterpretation of the input by the language model, or incorrect routing logic.\n",
        "\n",
        "\n",
        "\n",
        "\n",
        "  - What \"extra mile\" you could have gone to improve results?\n",
        "\n",
        "**Answer**\n",
        "  Enhance Prompt Engineering: Further refine your prompts to be more specific and guiding, ensuring the language model has a clear understanding of the task.\n",
        "\n",
        "Implement Feedback Loop: Allow for a feedback mechanism where the output is reviewed, and the input is refined based on this feedback.\n",
        "\n",
        "Customize Response Based on User Feedback: Incorporate user feedback into the system to personalize and improve the responses over time.\n",
        "\n",
        "Advanced NLP Techniques: Utilize more advanced NLP techniques or additional data sources to enrich the context and understanding of the language model."
      ],
      "metadata": {
        "id": "4aVVHXDx_DTX"
      }
    },
    {
      "cell_type": "markdown",
      "source": [
        "**Answer:**\n"
      ],
      "metadata": {
        "id": "LBfPC-KhbTwc"
      }
    },
    {
      "cell_type": "markdown",
      "source": [
        "2. With the final chain, for each of the following scenarios, run the `chain` 10 times to sample the spectrum of generated answers:\n",
        "\n",
        "*   A `csv` where the debt is `$500` and the savings are `$4,000`, with a monthly income of `$4,000`\n",
        "*   A `csv` where the debt is `$500` and the savings are `$0`, with a monthly income of `$4,000`\n",
        "*   A `csv` where the debt is `$1,500` and the savings are `$4,000`, with an monthly income of `$3,000`\n",
        "\n"
      ],
      "metadata": {
        "id": "jMznDnYUbJxS"
      }
    },
    {
      "cell_type": "code",
      "source": [
        "csv_file_1 = \"/content/drive/MyDrive/IS883_HW3/csv_1.csv\""
      ],
      "metadata": {
        "id": "4YFjBvCslcD2"
      },
      "execution_count": null,
      "outputs": []
    },
    {
      "cell_type": "code",
      "source": [
        "# Call for first scenario\n",
        "data1 = csvLoader(csv_file_1)\n",
        "print(data1)"
      ],
      "metadata": {
        "id": "iOXaS0VGbWbf",
        "colab": {
          "base_uri": "https://localhost:8080/"
        },
        "outputId": "083965b1-58bb-4050-c4f5-b97e50f044e8"
      },
      "execution_count": null,
      "outputs": [
        {
          "output_type": "stream",
          "name": "stdout",
          "text": [
            "savings: $4,000.00\n",
            "credit card debt: $500.00\n",
            "income: $4,000.00\n"
          ]
        }
      ]
    },
    {
      "cell_type": "code",
      "source": [
        "# run the chain 10 times\n",
        "def run10times(csv_file):\n",
        "    for _ in range(10):\n",
        "      result = chain.run(csv_file)\n",
        "      print(result)"
      ],
      "metadata": {
        "id": "LrWeHwcolei4"
      },
      "execution_count": null,
      "outputs": []
    },
    {
      "cell_type": "code",
      "source": [
        "from langchain.globals import set_debug\n",
        "set_debug(False)"
      ],
      "metadata": {
        "id": "SBEZT-P9lr9F"
      },
      "execution_count": null,
      "outputs": []
    },
    {
      "cell_type": "code",
      "source": [
        "run10times(data1)"
      ],
      "metadata": {
        "colab": {
          "base_uri": "https://localhost:8080/"
        },
        "id": "EbLzNlu9lfTA",
        "outputId": "8beb9c84-3f0d-4c2d-c133-846b6aa8a8b2"
      },
      "execution_count": null,
      "outputs": [
        {
          "output_type": "stream",
          "name": "stderr",
          "text": [
            "/usr/local/lib/python3.10/dist-packages/langchain/chains/llm.py:316: UserWarning: The predict_and_parse method is deprecated, instead pass an output parser directly to LLMChain.\n",
            "  warnings.warn(\n"
          ]
        },
        {
          "output_type": "stream",
          "name": "stdout",
          "text": [
            "Input Details:\n",
            "- Savings: $4,000.00\n",
            "- Debt: $500.00\n",
            "- Income: $4,000.00\n",
            "\n",
            "Financial Analysis Summary:\n",
            "Your current debt ratio, which is the proportion of your total debt compared to your total assets, is 0.11. This means that 11% of your assets are financed by debt. This is a relatively low ratio, indicating that you are in a fairly good financial situation. However, this doesn't mean that you can ignore your debt. It's still important to pay it off as soon as possible to avoid interest charges and maintain a healthy credit score.\n",
            "\n",
            "Recommendation:\n",
            "I recommend you to allocate 10% of your monthly income, which is $400.00, for debt repayment. This way, you can pay off your existing debt in a little over a month. Once your debt is paid off, consider continuing to put that money aside as savings. This could boost your financial security and give you more flexibility in the future. Remember, it's always better to have money saved for emergencies than to fall into debt.\n"
          ]
        },
        {
          "output_type": "stream",
          "name": "stderr",
          "text": [
            "/usr/local/lib/python3.10/dist-packages/langchain/chains/llm.py:316: UserWarning: The predict_and_parse method is deprecated, instead pass an output parser directly to LLMChain.\n",
            "  warnings.warn(\n"
          ]
        },
        {
          "output_type": "stream",
          "name": "stdout",
          "text": [
            "Input Details:\n",
            "- Savings: $4,000.00\n",
            "- Debt: $500.00\n",
            "- Income: $4,000.00\n",
            "\n",
            "Financial Analysis Summary:\n",
            "Based on the data provided, the client's debt ratio (debt divided by total assets) is 0.11, or 11%. This means that 11% of the client's total assets (savings + income) is owed in credit card debt. While this is a relatively low percentage, it is crucial to address this debt as soon as possible to prevent it from increasing and affecting the client's overall financial health. Currently, the client's monthly income matches their savings, suggesting that they may be living paycheck to paycheck or possibly saving a minimal amount each month.\n",
            "\n",
            "Recommendation:\n",
            "It is recommended that the client allocate a portion of their monthly income towards repaying the credit card debt. Given the client's current financial situation, allocating 10% of the monthly income will allow them to gradually pay off the debt without significantly impacting their daily living expenses. This would mean setting aside $400 from the monthly income for debt repayment. If this plan is followed consistently, the credit card debt can be completely paid off in just over a month. It is important to focus on regular repayments to clear the debt and prevent the accumulation of interest. This strategy will not only help eliminate the debt but also allow the client to maintain a healthy credit score.\n"
          ]
        },
        {
          "output_type": "stream",
          "name": "stderr",
          "text": [
            "/usr/local/lib/python3.10/dist-packages/langchain/chains/llm.py:316: UserWarning: The predict_and_parse method is deprecated, instead pass an output parser directly to LLMChain.\n",
            "  warnings.warn(\n"
          ]
        },
        {
          "output_type": "stream",
          "name": "stdout",
          "text": [
            "Input Details:\n",
            "- Savings: $4,000.00\n",
            "- Debt: $500.00\n",
            "- Income: $4,000.00\n",
            "\n",
            "Financial Analysis Summary:\n",
            "Based on the provided data, the client's debt-to-income ratio is 12.5%, which is calculated by dividing the total debt by the total income. This ratio is relatively low, suggesting that the client is not overly burdened by debt. However, the fact that there is any debt at all implies there may be some financial habits that need to be addressed. The client's savings amount to $4,000.00, which is a good start but should ideally be increased to provide a more substantial financial safety net.\n",
            "\n",
            "Recommendation:\n",
            "The client is advised to allocate 10% of their monthly income, or $400.00, towards paying off the debt. Doing so will help them clear the debt in just over a month, assuming that no additional debt is accrued. Once the debt is cleared, this monthly allocation should be directed towards savings, in order to build up a more robust emergency fund. This will be an effective strategy for improving the client's financial health over time. The client's spending habits should also be reviewed to avoid falling back into debt.\n"
          ]
        },
        {
          "output_type": "stream",
          "name": "stderr",
          "text": [
            "/usr/local/lib/python3.10/dist-packages/langchain/chains/llm.py:316: UserWarning: The predict_and_parse method is deprecated, instead pass an output parser directly to LLMChain.\n",
            "  warnings.warn(\n"
          ]
        },
        {
          "output_type": "stream",
          "name": "stdout",
          "text": [
            "Input Details:\n",
            "- Savings: $4,000.00\n",
            "- Debt: $500.00 \n",
            "- Income: $4,000.00\n",
            "\n",
            "Financial Analysis Summary:\n",
            "Based on the information provided, your debt ratio, which is the proportion of your total debt to your total income, is 0.125, or 12.5%. This means that 12.5% of your income is currently dedicated to paying off debt. Your savings amount to the same as your income, which is a good start, but the existence of credit card debt can undermine your financial stability if not addressed.\n",
            "\n",
            "Recommendation:\n",
            "Considering your current financial situation, I recommend implementing a monthly budget strategy where 10% of your income, which amounts to $400.00, is allocated towards debt repayment. This strategy will allow you to pay off your credit card debt in a little over a month. Once your debt is paid off, the same amount can be redirected towards your savings, further enhancing your financial stability. \n",
            "\n",
            "In addition, it would be beneficial to refrain from further usage of your credit card until your existing debt is completely cleared. This will prevent the accumulation of more debt and hasten the process of achieving financial stability. It is also important to consider creating an emergency fund from your savings for unexpected expenses, to avoid falling into a similar debt situation in the future.\n"
          ]
        },
        {
          "output_type": "stream",
          "name": "stderr",
          "text": [
            "/usr/local/lib/python3.10/dist-packages/langchain/chains/llm.py:316: UserWarning: The predict_and_parse method is deprecated, instead pass an output parser directly to LLMChain.\n",
            "  warnings.warn(\n"
          ]
        },
        {
          "output_type": "stream",
          "name": "stdout",
          "text": [
            "Input Details:\n",
            "- Savings: $4,000.00\n",
            "- Debt: $500.00\n",
            "- Income: $4,000.00\n",
            "\n",
            "Financial Analysis Summary:\n",
            "Based on the provided data, your current savings amount to $4,000.00 which is a good safety net in case of emergency. However, there is a concern regarding your credit card debt which stands at $500.00. Although the debt is not high compared to your savings or monthly income, it is still important to address it promptly to avoid unnecessary interest. Your income is $4,000.00 per month which is a healthy amount, but proper management is key to ensure financial stability. Your debt ratio, which is calculated by dividing your total debt by your total income, is 0.125. This means 12.5% of your income is currently owed as debt.\n",
            "\n",
            "Recommendation:\n",
            "Given your current financial situation, it is recommended that you allocate 10% of your monthly income towards paying off your credit card debt. This means you should set aside $400.00 per month for this purpose. With this plan, you should be able to completely pay off your debt in a little over a month. This will not only help you clear your debt quickly but also save you from paying high interest over a prolonged period. After your debt is paid off, it is advisable to continue setting aside this 10% into savings or investments, which will contribute to your financial health in the long term.\n"
          ]
        },
        {
          "output_type": "stream",
          "name": "stderr",
          "text": [
            "/usr/local/lib/python3.10/dist-packages/langchain/chains/llm.py:316: UserWarning: The predict_and_parse method is deprecated, instead pass an output parser directly to LLMChain.\n",
            "  warnings.warn(\n"
          ]
        },
        {
          "output_type": "stream",
          "name": "stdout",
          "text": [
            "Input Details:\n",
            "- Savings: $4,000.00\n",
            "- Debt: $500.00\n",
            "- Income: $4,000.00\n",
            "\n",
            "Financial Analysis Summary:\n",
            "Based on the provided data, your current debt to income ratio is 0.125, which means that 12.5% of your monthly income is currently going towards debt repayment. Additionally, your current savings to debt ratio is 8, indicating that your savings are eight times greater than your debt. This is a positive sign. However, if left unchecked, your debt could grow and become a bigger issue.\n",
            "\n",
            "Recommendation:\n",
            "The recommended strategy to manage your debt is to allocate 10% of your monthly income towards debt repayment. This will amount to $400 per month, which means you would be able to completely pay off your existing debt in approximately 2 months, assuming no further debt is accumulated. \n",
            "\n",
            "By dedicating a portion of your income to debt repayment, you will be able to manage your debt effectively while still having enough for your daily expenses and savings. It is also important to continue contributing to your savings, as this will provide you with financial security in the future. \n",
            "\n",
            "In addition, it is recommended to review your spending habits and look for areas where you can cut back. This will free up more of your income to be used for debt repayment, and will prevent you from accumulating further debt. \n",
            "\n",
            "In summary, by making these changes, you can improve your financial situation and become debt-free in a relatively short period of time.\n"
          ]
        },
        {
          "output_type": "stream",
          "name": "stderr",
          "text": [
            "/usr/local/lib/python3.10/dist-packages/langchain/chains/llm.py:316: UserWarning: The predict_and_parse method is deprecated, instead pass an output parser directly to LLMChain.\n",
            "  warnings.warn(\n"
          ]
        },
        {
          "output_type": "stream",
          "name": "stdout",
          "text": [
            "Input Details:\n",
            "- Savings: $4,000.00\n",
            "- Debt: $500.00\n",
            "- Income: $4,000.00\n",
            "\n",
            "Financial Analysis Summary:\n",
            "Your current financial situation presents both strengths and areas for improvement. On the positive side, you have a healthy amount of savings totalling $4,000.00, which is a great safety net. However, you also have an outstanding credit card debt of $500.00. Comparatively, this isn't a large amount, but it's important to manage it effectively to avoid unnecessary interest charges or potential negative impacts on your credit score. \n",
            "\n",
            "Your income is currently $4,000.00 per month. Given your income and debt ratio, you're in a relatively good financial position. However, the existence of credit card debt indicates a potential tendency towards overspending or not budgeting efficiently.\n",
            "\n",
            "Recommendation:\n",
            "To effectively manage your debt, we suggest allocating a percentage of your monthly income towards your credit card debt. A good starting point is 10%, which in your case would be $400.00. This would allow you to pay off your current debt in just over a month, while still leaving you with a significant portion of your income for other expenses.\n",
            "\n",
            "In addition, consider setting aside a portion of your savings to create an emergency fund, if you don't already have one. This will provide an additional financial safety net, and can help you avoid future debt.\n",
            "\n",
            "While this plan will help to manage your current debt, it's important to also consider long-term financial habits. It may be beneficial to review your spending habits and create a budget to ensure you're living within your means and not accruing more debt. This will help to ensure your financial stability moving forward.\n"
          ]
        },
        {
          "output_type": "stream",
          "name": "stderr",
          "text": [
            "/usr/local/lib/python3.10/dist-packages/langchain/chains/llm.py:316: UserWarning: The predict_and_parse method is deprecated, instead pass an output parser directly to LLMChain.\n",
            "  warnings.warn(\n"
          ]
        },
        {
          "output_type": "stream",
          "name": "stdout",
          "text": [
            "Input Details:\n",
            "- Savings: $4,000.00\n",
            "- Debt: $500.00\n",
            "- Income: $4,000.00\n",
            "\n",
            "Financial Analysis Summary:\n",
            "\n",
            "The client's current financial position is fairly stable, with a total savings of $4,000.00. However, they also have a credit card debt of $500.00. The debt ratio, which is the proportion of debt relative to the client's total income, is at 12.5% ($500.00/$4,000.00). This is a manageable level of debt, but it's important to address it promptly to avoid the potential accumulation of interest over time.\n",
            "\n",
            "Recommendation:\n",
            "\n",
            "Given the current financial situation, it is advisable for the client to allocate a portion of their monthly income towards debt repayment. A 10% allocation of the monthly income, which amounts to $400.00, is recommended. This means that the client can clear their current debt in just over a month while still maintaining a comfortable level of savings. Additionally, this will help to reduce the debt ratio significantly, improving the client's overall financial health. It's also important to avoid incurring any additional debt during this period and focus on saving and investing once the debt is cleared.\n"
          ]
        },
        {
          "output_type": "stream",
          "name": "stderr",
          "text": [
            "/usr/local/lib/python3.10/dist-packages/langchain/chains/llm.py:316: UserWarning: The predict_and_parse method is deprecated, instead pass an output parser directly to LLMChain.\n",
            "  warnings.warn(\n"
          ]
        },
        {
          "output_type": "stream",
          "name": "stdout",
          "text": [
            "Input Details:\n",
            "- Savings: $4,000.00\n",
            "- Debt: $500.00\n",
            "- Income: $4,000.00\n",
            "\n",
            "Financial Analysis Summary:\n",
            "After careful review of your financial situation, it is apparent that your debt ratio is relatively low, which is a positive sign. Currently, your debt accounts for approximately 0.125 (12.5%) of your total savings. This puts you in a good position when it comes to your overall financial health. However, it's important to note that having any debt can still impact your financial stability. Your monthly income of $4,000.00 is also a solid base, but we need to ensure a portion of this is being used to effectively reduce your debt.\n",
            "\n",
            "Recommendation:\n",
            "I recommend that you allocate 10% of your monthly income ($400.00) towards your debt repayment. This will allow you to clear your current credit card debt of $500.00 in just over a month, without drastically affecting your daily living expenses. After this, continue to allocate this 10% into savings, bolstering your financial stability and preparing for future unforeseen expenses. This approach will not only help you eliminate your current debt but also strengthen your financial security in the long run.\n"
          ]
        },
        {
          "output_type": "stream",
          "name": "stderr",
          "text": [
            "/usr/local/lib/python3.10/dist-packages/langchain/chains/llm.py:316: UserWarning: The predict_and_parse method is deprecated, instead pass an output parser directly to LLMChain.\n",
            "  warnings.warn(\n"
          ]
        },
        {
          "output_type": "stream",
          "name": "stdout",
          "text": [
            "Input Details:\n",
            "- Savings: $4,000.00\n",
            "- Debt: $500.00\n",
            "- Income: $4,000.00\n",
            "\n",
            "Financial Analysis Summary:\n",
            "The client has a good savings account balance of $4,000.00. However, there is a card debt of $500.00, which represents 12.5% of the savings. The monthly income is $4,000.00, which seems substantial. However, if the debt is left unattended, it could accrue interest and become a significant burden in the future. At present, the debt to income ratio is 12.5%, which is manageable but should be reduced to ensure financial stability.\n",
            "\n",
            "Recommendation:\n",
            "The client is advised to allocate 10% of their monthly income, which is $400.00, for debt repayment. This way, the debt can be cleared in a little over a month, and future incomes can be channeled towards savings and investments. It is crucial to remember that while maintaining a healthy savings account is important, it's equally vital to maintain a low debt ratio to maintain good credit standing and financial health.\n"
          ]
        }
      ]
    },
    {
      "cell_type": "code",
      "source": [
        "# Call for second scenario\n",
        "csv_file_2 = \"/content/drive/MyDrive/IS883_HW3/csv_2.csv\"\n",
        "data2 = csvLoader(csv_file_2)\n",
        "run10times(data2)"
      ],
      "metadata": {
        "id": "vm2BfJxSb4Te",
        "colab": {
          "base_uri": "https://localhost:8080/"
        },
        "outputId": "08692093-972c-468f-91f0-9e53cf886002"
      },
      "execution_count": null,
      "outputs": [
        {
          "output_type": "stream",
          "name": "stderr",
          "text": [
            "/usr/local/lib/python3.10/dist-packages/langchain/chains/llm.py:316: UserWarning: The predict_and_parse method is deprecated, instead pass an output parser directly to LLMChain.\n",
            "  warnings.warn(\n"
          ]
        },
        {
          "output_type": "stream",
          "name": "stdout",
          "text": [
            "Input Details:\n",
            "- Savings: $0.00\n",
            "- Debt: $500.00\n",
            "- Income: $4,000.00\n",
            "\n",
            "Financial Analysis Summary:\n",
            "As your financial advisor, it's crucial for me to provide an honest assessment of your financial situation. Currently, you have no savings and a debt of $500.00. Your monthly income is $4,000.00, which provides some flexibility in managing your financial situation. However, the lack of savings and the presence of debt indicates a potential risk. Your debt ratio, which is calculated by dividing your total debt by your total income, is 0.125, or 12.5%. This means 12.5% of your income is tied up in debt obligations.\n",
            "\n",
            "Recommendation:\n",
            "I propose a strategic plan to help you get out of debt and start saving. My recommendation is to allocate 10% of your monthly income, which equates to $400.00, for debt repayment. This approach will allow you to pay off your current debt in just over a month. Following this, I suggest you continue to allocate this 10% towards savings. This will not only help you to build a safety net but also prepare for future financial goals or emergencies. Remember, the key to financial stability is a balance between income, savings, and debt.\n"
          ]
        },
        {
          "output_type": "stream",
          "name": "stderr",
          "text": [
            "/usr/local/lib/python3.10/dist-packages/langchain/chains/llm.py:316: UserWarning: The predict_and_parse method is deprecated, instead pass an output parser directly to LLMChain.\n",
            "  warnings.warn(\n"
          ]
        },
        {
          "output_type": "stream",
          "name": "stdout",
          "text": [
            "Input Details:\n",
            "- Savings: $0.00\n",
            "- Debt: $500.00 \n",
            "- Income: $4,000.00\n",
            "\n",
            "Financial Analysis Summary:\n",
            "Your current financial situation shows no savings and a credit card debt of $500. Your income is solid at $4,000 per month, but the absence of savings and the presence of credit card debt can put you at risk for financial instability. Your debt ratio, which is your total debt divided by your total income, is currently 0.125. This means 12.5% of your income is tied up in debt, which is a fairly manageable ratio. However, the lack of savings is a concern as it leaves you vulnerable to unexpected expenses or income loss.\n",
            "\n",
            "Recommendation:\n",
            "To improve your financial health, the first step is to start paying off your debt. I recommend allocating 10% of your income, or $400, towards your debt each month. This will allow you to pay off your current debt in just over a month. Once your debt is cleared, continue to put that 10% of your income into a savings account each month. This will help build a safety net for future unexpected expenses and reduce the risk of falling back into debt. Additionally, consider investing in a budgeting tool or financial advisor to help manage your expenses and further increase your savings.\n"
          ]
        },
        {
          "output_type": "stream",
          "name": "stderr",
          "text": [
            "/usr/local/lib/python3.10/dist-packages/langchain/chains/llm.py:316: UserWarning: The predict_and_parse method is deprecated, instead pass an output parser directly to LLMChain.\n",
            "  warnings.warn(\n"
          ]
        },
        {
          "output_type": "stream",
          "name": "stdout",
          "text": [
            "Input Details:\n",
            "- Savings: $0.00\n",
            "- Debt: $500.00\n",
            "- Income: $4,000.00\n",
            "\n",
            "Financial Analysis Summary:\n",
            "Your current financial situation indicates a debt of $500.00 with no savings. This means your debt ratio, which is the percentage of your income that goes towards paying off debt, is approximately 12.5%. Ideally, the debt ratio should be lower to ensure financial stability. In your case, having no savings and a debt ratio higher than 10% could potentially lead to financial difficulties in the event of unexpected expenses.\n",
            "\n",
            "Recommendation:\n",
            "Given your monthly income of $4,000.00, it is advisable to allocate a portion of it towards paying off your debt and establishing a savings plan. We recommend allocating 10% of your monthly income, which is $400.00, towards your debt. This amount will allow you to pay off your debt in a little over a month while still leaving enough for your regular expenses and setting a bit aside for savings. \n",
            "\n",
            "It's also important to consider setting up an emergency fund with the savings you accumulate. This will protect you from future financial difficulties and further debt. It's never too late to start, and with careful planning and discipline, you can achieve a financially stable future.\n"
          ]
        },
        {
          "output_type": "stream",
          "name": "stderr",
          "text": [
            "/usr/local/lib/python3.10/dist-packages/langchain/chains/llm.py:316: UserWarning: The predict_and_parse method is deprecated, instead pass an output parser directly to LLMChain.\n",
            "  warnings.warn(\n"
          ]
        },
        {
          "output_type": "stream",
          "name": "stdout",
          "text": [
            "Input Details:\n",
            "- Savings: $0.00\n",
            "- Debt: $500.00\n",
            "- Income: $4,000.00\n",
            "\n",
            "Financial Analysis Summary:\n",
            "Currently, your savings account is at zero, which is a serious concern as it leaves you without a safety net in case of emergencies. Additionally, you have a debt of $500.00, which is 12.5% of your monthly income. This means that a significant portion of your income is dedicated to covering your debt, leaving less room for savings and other expenses.\n",
            "\n",
            "Recommendation:\n",
            "Firstly, it is crucial that you start building an emergency savings fund. However, the immediate priority is addressing your debt. We recommend allocating 10% of your monthly income, which is $400.00, towards repaying your debt. At this rate, you can be free from this debt in just over a month. This strategy will reduce the strain on your income and free up more for savings and other expenses. Once the debt is paid off, you could continue to set aside a similar amount each month into a savings account to help build your financial security.\n"
          ]
        },
        {
          "output_type": "stream",
          "name": "stderr",
          "text": [
            "/usr/local/lib/python3.10/dist-packages/langchain/chains/llm.py:316: UserWarning: The predict_and_parse method is deprecated, instead pass an output parser directly to LLMChain.\n",
            "  warnings.warn(\n"
          ]
        },
        {
          "output_type": "stream",
          "name": "stdout",
          "text": [
            "Input Details:\n",
            "- Savings: $0.00\n",
            "- Debt: $500.00\n",
            "- Income: $4,000.00\n",
            "\n",
            "Financial Analysis Summary:\n",
            "Based on the provided financial data, your debt-to-income ratio is currently at 0.125. This means that for every $1.00 of income you earn, $0.125 goes towards servicing your debt. Additionally, your savings are currently at $0.00. In essence, you are living paycheck to paycheck without any financial safety net in case of emergencies. Your current situation puts you at a high risk of potential financial distress if any unexpected expenses arise. \n",
            "\n",
            "Recommendation:\n",
            "To improve your financial situation, it is highly recommended that you start by tackling your debt. A good repayment strategy would be to allocate 10% of your monthly income towards paying off your credit card debt. This means that $400.00 of your income every month will go directly to paying down your $500.00 debt. In just over a month, you will be free from this debt. \n",
            "\n",
            "Subsequently, it's crucial to start building your savings. Consider setting aside another 10% of your income towards savings once your debt is fully repaid. This will not only provide a financial buffer in the case of emergencies but will also help improve your overall financial health. \n",
            "\n",
            "Remember, the key to financial stability is to live below your means and to consistently save and pay off any accrued debt. It may seem challenging now, but with discipline and commitment, it is an achievable goal.\n"
          ]
        },
        {
          "output_type": "stream",
          "name": "stderr",
          "text": [
            "/usr/local/lib/python3.10/dist-packages/langchain/chains/llm.py:316: UserWarning: The predict_and_parse method is deprecated, instead pass an output parser directly to LLMChain.\n",
            "  warnings.warn(\n"
          ]
        },
        {
          "output_type": "stream",
          "name": "stdout",
          "text": [
            "Input Details:\n",
            "- Savings: $0.00\n",
            "- Debt: $500.00\n",
            "- Income: $4000.00\n",
            "\n",
            "Financial Analysis Summary:\n",
            "Based on the information provided, the client currently has no savings and a credit card debt of $500.00. This debt-to-income ratio is 0.125, which means that 12.5% of the client's income is currently directed towards debt. This is a manageable number, but it's important to note that the client does not have any savings, which could leave them vulnerable in the event of an emergency or unexpected expense.\n",
            "\n",
            "Recommendation:\n",
            "The client should consider allocating a portion of their monthly income towards both savings and debt repayment. As per our analysis, we suggest that the client allocates 10% of their monthly income, or $400, towards paying off their credit card debt. This would allow them to completely pay off their debt in just over a month. \n",
            "\n",
            "At the same time, we also recommend that the client begins to build a savings fund. This could be started with a smaller percentage of their income, such as 5%, and gradually increased as their debt is reduced. \n",
            "\n",
            "By following this plan, the client will be able to eliminate their debt efficiently while also beginning to build a safety net for future financial stability. This will lead to a healthier financial situation and less financial stress in the long run.\n"
          ]
        },
        {
          "output_type": "stream",
          "name": "stderr",
          "text": [
            "/usr/local/lib/python3.10/dist-packages/langchain/chains/llm.py:316: UserWarning: The predict_and_parse method is deprecated, instead pass an output parser directly to LLMChain.\n",
            "  warnings.warn(\n"
          ]
        },
        {
          "output_type": "stream",
          "name": "stdout",
          "text": [
            "Input Details:\n",
            "- Savings: $0.00\n",
            "- Debt: $500.00\n",
            "- Income: $4,000.00\n",
            "\n",
            "Financial Analysis Summary\n",
            "Your current financial situation shows that you have no savings but have a credit card debt of $500.00. Your monthly income is $4,000.00. Your debt ratio, which is the percentage of your income that goes towards paying off your debt, is currently at 12.5%. This is calculated by dividing your total debt by your total income. Having a high debt ratio can be risky as it means a large portion of your income is going towards paying off debt, and not towards other necessary expenses or savings. \n",
            "\n",
            "Recommendation\n",
            "With your current income, it is advisable to allocate 10% towards debt repayment. This means you should set aside $400.00 per month to pay towards your credit card debt. Following this plan, you can expect to pay off your current debt in a little over a month. Once this debt is cleared, continue to allocate this 10% towards savings to prevent future debt and secure your financial future. Moreover, it would be prudent to review your spending habits to avoid further debt accumulation.\n"
          ]
        },
        {
          "output_type": "stream",
          "name": "stderr",
          "text": [
            "/usr/local/lib/python3.10/dist-packages/langchain/chains/llm.py:316: UserWarning: The predict_and_parse method is deprecated, instead pass an output parser directly to LLMChain.\n",
            "  warnings.warn(\n"
          ]
        },
        {
          "output_type": "stream",
          "name": "stdout",
          "text": [
            "Input Details:\n",
            "- Savings: $0.00\n",
            "- Debt: $500.00\n",
            "- Income: $4,000.00\n",
            "\n",
            "Financial Analysis Summary:\n",
            "\n",
            "The current financial situation of the client clearly indicates the absence of any savings, which is a cause of concern. The client has a credit card debt of $500.00. Considering the monthly income of $4,000.00, the debt-to-income ratio for the client is 12.5%, which is relatively high. Regularly having a high debt-to-income ratio can negatively impact your credit score and may make it harder for you to get approved for new credit. It's crucial to start taking steps towards lowering this ratio and improving the overall financial health.\n",
            "\n",
            "Recommendation:\n",
            "\n",
            "The client is advised to allocate 10% of their monthly income, which is $400.00, towards debt repayment. This would mean that the client could potentially pay off their current debt in just over one month, provided that no additional debt is accrued in the meantime. This plan not only helps in clearing off the debt but also, over time, contributes to lowering the debt-to-income ratio.\n",
            "\n",
            "In addition, it's crucial to start building a savings fund. As a start, the client could consider setting aside 5% (or $200) of their monthly income for savings. This could help build a financial cushion over time and protect against future unexpected expenses or financial emergencies. \n",
            "\n",
            "Remember, the key to successful debt management and savings growth is commitment and discipline. It's important to stick to the plan, avoid unnecessary spending, and prioritize saving and debt repayment.\n"
          ]
        },
        {
          "output_type": "stream",
          "name": "stderr",
          "text": [
            "/usr/local/lib/python3.10/dist-packages/langchain/chains/llm.py:316: UserWarning: The predict_and_parse method is deprecated, instead pass an output parser directly to LLMChain.\n",
            "  warnings.warn(\n"
          ]
        },
        {
          "output_type": "stream",
          "name": "stdout",
          "text": [
            "Input Details:\n",
            "- Savings: $0.00\n",
            "- Debt: $500.00\n",
            "- Income: $4,000.00\n",
            "\n",
            "Financial Analysis Summary:\n",
            "At present, your savings account balance is $0.00 and you have a credit card debt of $500.00. Your monthly income is $4,000.00. The debt-to-income ratio is a key financial health indicator. In your case, it is 12.5%. This percentage indicates that a significant portion of your income is allocated towards debt repayment, which could potentially lead to financial instability if left unchecked. \n",
            "\n",
            "Recommendation:\n",
            "It is imperative to tackle this debt as soon as possible to avoid any further complications. For this, I recommend allocating 10% of your monthly income, which is $400.00, towards paying off your debt. This way, you will be able to clear your debt within two months. Following this, you should consider building an emergency fund. Start by setting aside a small amount from your income each month into your savings. This will not only help you avoid such debts in the future but also prepare you for unforeseen circumstances.\n"
          ]
        },
        {
          "output_type": "stream",
          "name": "stderr",
          "text": [
            "/usr/local/lib/python3.10/dist-packages/langchain/chains/llm.py:316: UserWarning: The predict_and_parse method is deprecated, instead pass an output parser directly to LLMChain.\n",
            "  warnings.warn(\n"
          ]
        },
        {
          "output_type": "stream",
          "name": "stdout",
          "text": [
            "Input Details:\n",
            "- Savings: $0.00\n",
            "- Debt: $500.00\n",
            "- Income: $4,000.00\n",
            "\n",
            "Financial Analysis Summary:\n",
            "Your current financial situation indicates that you have no savings and a credit card debt of $500.00. Your monthly income is $4,000.00. This implies that your debt ratio, which is the proportion of your income that goes towards paying off your debt, is 12.5%. This is a manageable percentage, however, it leaves you with no room for savings or unexpected expenses. \n",
            "\n",
            "Recommendation:\n",
            "We advise that you establish a plan to handle your debt. As a starting point, consider allocating 10% of your monthly income, in this case $400.00, to pay off your debt. This will allow you to clear your debt in a little over a month, given the interest rates. \n",
            "\n",
            "Once the debt is paid off, continue to allocate this 10% towards savings. This strategy will not only help reduce your debt but also enable you to build your savings. \n",
            "\n",
            "Remember, the key to financial stability is not only earning but also saving and investing wisely. It's never too late to start. Therefore, let's embark on this journey to financial freedom together.\n"
          ]
        }
      ]
    },
    {
      "cell_type": "code",
      "source": [
        "# Call for third scenario\n",
        "csv_file_3 = \"/content/drive/MyDrive/IS883_HW3/csv_3.csv\"\n",
        "data3 = csvLoader(csv_file_3)\n",
        "run10times(data3)"
      ],
      "metadata": {
        "id": "WBxCACEMb5pF",
        "colab": {
          "base_uri": "https://localhost:8080/"
        },
        "outputId": "bacc67cd-3a8a-48fd-f4b2-87a79ebd6532"
      },
      "execution_count": null,
      "outputs": [
        {
          "output_type": "stream",
          "name": "stderr",
          "text": [
            "/usr/local/lib/python3.10/dist-packages/langchain/chains/llm.py:316: UserWarning: The predict_and_parse method is deprecated, instead pass an output parser directly to LLMChain.\n",
            "  warnings.warn(\n"
          ]
        },
        {
          "output_type": "stream",
          "name": "stdout",
          "text": [
            "Input Details:\n",
            "- Savings: $4,000.00\n",
            "- Debt: $1,500.00 \n",
            "- Income: $3,000.00\n",
            "\n",
            "Financial Analysis Summary:\n",
            "Upon analyzing your financial situation, it is evident that your savings ($4,000) are significantly higher than your debt ($1,500). This is a good position to be in, as it shows you have some cushioning. However, it's worth noting that your income ($3,000 monthly) is relatively high, and this should allow you to repay your debt more quickly. Your current debt ratio, calculated by dividing your debt by your income, is 0.5. This means that for every dollar you earn, 50 cents is owed in debt. \n",
            "\n",
            "Recommendation:\n",
            "To improve your financial situation and work towards being debt-free, it would be advisable to allocate 10% of your monthly income towards repaying your debt. This means you should put aside $300 monthly for this purpose. At this rate, you will be able to completely pay off your debt in approximately five months, assuming you do not accrue any additional debt. This strategy will not only help you clear your debt quickly but also allow you to maintain a comfortable lifestyle without living paycheck to paycheck. It's also important to continue saving and consider increasing your savings once your debt has been paid off. This will provide a financial safety net and help to prevent future debt.\n"
          ]
        },
        {
          "output_type": "stream",
          "name": "stderr",
          "text": [
            "/usr/local/lib/python3.10/dist-packages/langchain/chains/llm.py:316: UserWarning: The predict_and_parse method is deprecated, instead pass an output parser directly to LLMChain.\n",
            "  warnings.warn(\n"
          ]
        },
        {
          "output_type": "stream",
          "name": "stdout",
          "text": [
            "Input Details:\n",
            "- Savings: $4,000.00\n",
            "- Debt: $1,500.00\n",
            "- Income: $3,000.00\n",
            "\n",
            "Financial Analysis Summary:\n",
            "The current debt ratio, calculated by dividing total debt by total income, is 0.5. This implies that 50% of your total income is tied up in debt. This is a considerable percentage, considering that only a fraction of your income remains for other expenses after paying off your debt. \n",
            "\n",
            "Your savings amount to $4,000.00, which is more than double your total debt. This is a positive aspect of your financial situation as it shows you have some financial security. However, it's imperative to plan wisely to avoid depleting your savings.\n",
            "\n",
            "Recommendation:\n",
            "Given your income and current debt levels, it is advisable to start chipping away at your debt to reduce the burden. Allocating 10% of your monthly income for debt repayment is a good starting point. With your monthly income of $3,000.00, this will mean $300.00 every month towards paying off your debt.\n",
            "\n",
            "If you follow this plan, you will pay off your debt in approximately five months. This strategy will allow you to manage your debt effectively without significantly impacting your daily expenses or savings. \n",
            "\n",
            "Remember, the goal is to keep your savings intact while gradually reducing your debt. Also, it's crucial to avoid accumulating more debt during this period. Consistent follow-through on this plan will ensure a healthier financial future.\n"
          ]
        },
        {
          "output_type": "stream",
          "name": "stderr",
          "text": [
            "/usr/local/lib/python3.10/dist-packages/langchain/chains/llm.py:316: UserWarning: The predict_and_parse method is deprecated, instead pass an output parser directly to LLMChain.\n",
            "  warnings.warn(\n"
          ]
        },
        {
          "output_type": "stream",
          "name": "stdout",
          "text": [
            "Input Details:\n",
            "- Savings: $4,000.00\n",
            "- Debt: $1,500.00\n",
            "- Income: $3,000.00\n",
            "\n",
            "Financial Analysis Summary:\n",
            "After reviewing your financial data, it is clear that your debt ratio, which is the ratio of your total debt to your total income, is 50%. This ratio is quite high and could potentially put you in financial jeopardy if it continues to increase. You currently have $1,500 in credit card debt, which is half of your monthly income of $3,000. In addition, while you have $4,000 in savings, this amount could quickly be depleted if you continue to accrue debt at your current rate.\n",
            "\n",
            "Recommendation:\n",
            "I recommend implementing a debt repayment plan to help manage and reduce your existing debt. Allocating 10% of your monthly income towards your debt, which would be $300, will enable you to pay off your debt in approximately 5 months, assuming you do not accumulate additional debt during this period. By doing so, you can progressively lower your debt ratio, thereby improving your overall financial health. It is also crucial that you try to reduce your expenses and avoid incurring new debt during this period.\n"
          ]
        },
        {
          "output_type": "stream",
          "name": "stderr",
          "text": [
            "/usr/local/lib/python3.10/dist-packages/langchain/chains/llm.py:316: UserWarning: The predict_and_parse method is deprecated, instead pass an output parser directly to LLMChain.\n",
            "  warnings.warn(\n"
          ]
        },
        {
          "output_type": "stream",
          "name": "stdout",
          "text": [
            "Input Details:\n",
            "- Savings: $4,000.00\n",
            "- Debt: $1,500.00\n",
            "- Income: $3,000.00\n",
            "\n",
            "Financial Analysis Summary:\n",
            "Based on the provided data, your current debt ratio, which is the percentage of your income that goes towards paying off debt, is approximately 50%. This indicates that half of your income is being used to service your debt, leaving you with less disposable income for other expenses and savings. \n",
            "\n",
            "While your savings account has a healthy balance of $4,000.00, it is important to note that your credit card debt stands at $1,500.00. This debt could rapidly accrue interest if not promptly addressed, potentially leading to a more challenging financial situation.\n",
            "\n",
            "Recommendation:\n",
            "I would recommend implementing a debt repayment plan. As your monthly income is $3,000.00, allocating 10% towards debt repayment would amount to $300.00 per month. At this rate, you could pay off your existing credit card debt in approximately five months, assuming no additional charges or interest on the card. \n",
            "\n",
            "This approach would allow you to gradually reduce your debt while still leaving room for necessary expenses and potential savings. Additionally, it would be beneficial to avoid incurring further credit card debt where possible. By doing so, you can maintain your financial health and build towards a more secure financial future.\n"
          ]
        },
        {
          "output_type": "stream",
          "name": "stderr",
          "text": [
            "/usr/local/lib/python3.10/dist-packages/langchain/chains/llm.py:316: UserWarning: The predict_and_parse method is deprecated, instead pass an output parser directly to LLMChain.\n",
            "  warnings.warn(\n"
          ]
        },
        {
          "output_type": "stream",
          "name": "stdout",
          "text": [
            "Input Details:\n",
            "- Savings: $4,000.00\n",
            "- Debt: $1,500.00\n",
            "- Income: $3,000.00\n",
            "\n",
            "Financial Analysis Summary:\n",
            "Your current financial situation presents some challenges, but it is manageable. The total savings is $4,000.00, while your total debt amounts to $1,500.00. Your monthly income is $3,000.00. The debt-to-income ratio is 50%, which indicates that you are spending half of your income to service debt. This is a relatively high ratio and it can potentially lead to financial strain if not addressed promptly.\n",
            "\n",
            "Recommendation:\n",
            "To improve your financial situation, it is recommended to focus on debt repayment. Allocating 10% of your monthly income, which amounts to $300.00, towards debt payment will enable you to pay off your credit card debt in approximately 5 months. This strategy will not only help you to reduce your debt significantly but also free up more of your income for savings and other financial goals. \n",
            "\n",
            "Remember, it's important to maintain discipline and stick to the plan to achieve financial freedom. Please consider cutting unnecessary expenses and focusing on increasing your income to speed up the debt repayment process.\n"
          ]
        },
        {
          "output_type": "stream",
          "name": "stderr",
          "text": [
            "/usr/local/lib/python3.10/dist-packages/langchain/chains/llm.py:316: UserWarning: The predict_and_parse method is deprecated, instead pass an output parser directly to LLMChain.\n",
            "  warnings.warn(\n"
          ]
        },
        {
          "output_type": "stream",
          "name": "stdout",
          "text": [
            "Input Details:\n",
            "- Savings: $4,000.00\n",
            "- Debt: $1,500.00\n",
            "- Income: $3,000.00\n",
            "\n",
            "Financial Analysis Summary\n",
            "Upon review of your financial situation, it's visible that your current savings stands at $4,000.00, while your credit card debt is $1,500.00. Your monthly income is $3,000.00. While your savings exceed your debt, it's important to note that maintaining a credit card debt can lead to substantial interest costs over time. Your debt ratio, which is your total debt divided by your total income, is approximately 0.5, meaning that 50% of your income is tied up in debt. It's crucial to focus on reducing this ratio to enhance your financial stability and create a buffer for unexpected expenses.\n",
            "\n",
            "Recommendation\n",
            "I recommend implementing a debt repayment plan to manage your financial situation better. Since your monthly income is $3,000.00, allocating 10% towards debt repayment would be $300.00 each month. If you follow this plan, you will be free from your credit card debt in approximately 5 months, provided you do not accrue any additional charges on your credit card. \n",
            "\n",
            "This strategy not only helps you eliminate your debt but also allows you to save a significant amount of money that would otherwise be spent on interest. It's also important to be mindful of your spending habits and avoid accruing additional debt while you're paying off your current debt. \n",
            "\n",
            "Remember, becoming debt-free is not an overnight process. It takes discipline, patience, and consistency. However, by making these small yet significant changes, you will be on your way to a healthier financial future.\n"
          ]
        },
        {
          "output_type": "stream",
          "name": "stderr",
          "text": [
            "/usr/local/lib/python3.10/dist-packages/langchain/chains/llm.py:316: UserWarning: The predict_and_parse method is deprecated, instead pass an output parser directly to LLMChain.\n",
            "  warnings.warn(\n"
          ]
        },
        {
          "output_type": "stream",
          "name": "stdout",
          "text": [
            "Input Details:\n",
            "- Savings: $4,000.00\n",
            "- Debt: $1,500.00\n",
            "- Income: $3,000.00\n",
            "\n",
            "Financial Analysis Summary:\n",
            "Based on the data provided, it's observed that the client’s current financial situation has some areas requiring immediate attention. The client has a debt of $1,500.00 while their savings amount to $4,000.00. The debt ratio, which is calculated by dividing total debt by total income, equates to 0.5. This suggests that the client is using half of their income to repay their debt, which is quite high. \n",
            "\n",
            "Recommendation:\n",
            "Given the client's current financial situation, it is recommended that a structured debt repayment plan is implemented. One strategy could be to allocate 10% of the monthly income towards the repaying the debt. This would equate to $300 per month. By following this plan, the client would be able to pay off the debt in approximately 5 months. Additionally, they should be encouraged to minimize unnecessary expenses and allocate any additional funds towards debt repayment to expedite the process. This will not only help in clearing the debt but also allow for more savings in the long run, leading to financial stability and peace of mind.\n"
          ]
        },
        {
          "output_type": "stream",
          "name": "stderr",
          "text": [
            "/usr/local/lib/python3.10/dist-packages/langchain/chains/llm.py:316: UserWarning: The predict_and_parse method is deprecated, instead pass an output parser directly to LLMChain.\n",
            "  warnings.warn(\n"
          ]
        },
        {
          "output_type": "stream",
          "name": "stdout",
          "text": [
            "Input Details:\n",
            "- Savings: $4,000.00\n",
            "- Debt: $1,500.00\n",
            "- Income: $3,000.00\n",
            "\n",
            "Financial Analysis Summary:\n",
            "Based on the provided information, your current debt ratio is 33%. This means that 33% of your total assets are financed by debt. It's important to note that a lower debt ratio generally suggests that you have a good balance between debt and assets. However, your savings are more than double your debt, which is a positive sign. However, it's always better to aim for a debt-free life in order to maintain financial stability.\n",
            "\n",
            "Recommendation:\n",
            "To tackle your current debt of $1,500.00, it's recommended to allocate 10% of your monthly income towards debt repayment. This means you should be setting aside $300.00 every month for this purpose. With this plan, you should be able to pay off your debt within 5 months. It's also advisable to refrain from accumulating more debt during this time. Once your debt is paid off, continue to allocate that amount or more to your savings in order to build a robust financial safety net. Remember, financial stability is not just about clearing debt, but also about building wealth for the future.\n"
          ]
        },
        {
          "output_type": "stream",
          "name": "stderr",
          "text": [
            "/usr/local/lib/python3.10/dist-packages/langchain/chains/llm.py:316: UserWarning: The predict_and_parse method is deprecated, instead pass an output parser directly to LLMChain.\n",
            "  warnings.warn(\n"
          ]
        },
        {
          "output_type": "stream",
          "name": "stdout",
          "text": [
            "Input Details:\n",
            "- Savings: $4,000.00\n",
            "- Debt: $1,500.00\n",
            "- Income: $3,000.00\n",
            "\n",
            "Financial Analysis Summary:\n",
            "Based on the data provided, your current savings amount to $4,000.00 while your credit card debt stands at $1,500.00. Your current income is $3,000.00. The debt ratio, which is calculated by dividing your total debt by your total income, is 0.5. This means that you owe 50% of what you earn. This is a considerable percentage, and it is crucial to start addressing this debt as soon as possible to avoid possible financial difficulties in the future.\n",
            "\n",
            "Recommendation:\n",
            "It's recommended that you start allocating a certain percentage of your income towards your debt. A good starting point could be 10% of your monthly income. This would equate to $300.00 per month. By consistently paying this amount, you would be able to pay off your debt in five months, without considering the interest. It's important to make these payments regularly to decrease your debt as soon as possible and to avoid any potential negative impact on your credit score. \n",
            "\n",
            "Additionally, make sure to keep an eye on your spending habits to prevent accumulating more debt. Building an emergency fund from your savings could also be beneficial for unexpected expenses in the future. This will help to ensure your financial stability and build a solid financial future.\n"
          ]
        },
        {
          "output_type": "stream",
          "name": "stderr",
          "text": [
            "/usr/local/lib/python3.10/dist-packages/langchain/chains/llm.py:316: UserWarning: The predict_and_parse method is deprecated, instead pass an output parser directly to LLMChain.\n",
            "  warnings.warn(\n"
          ]
        },
        {
          "output_type": "stream",
          "name": "stdout",
          "text": [
            "Input Details:\n",
            "- Savings: $4,000.00\n",
            "- Debt: $1,500.00\n",
            "- Income: $3,000.00\n",
            "\n",
            "Financial Analysis Summary:\n",
            "The client has a healthy savings account with $4,000 available. However, they also have a credit card debt of $1,500. Their monthly income is $3,000. The debt to income ratio is 50%, which means they owe half of what they earn every month. This is a significant portion of their income and needs to be addressed promptly to avoid further financial issues.\n",
            "\n",
            "Recommendation:\n",
            "First, it is essential to start tackling the credit card debt. Allocating 10% of the monthly income ($300) towards debt repayment seems like a feasible plan. This would mean the credit card debt could be paid off within 5 months. During this period, it is also recommended to avoid additional spending on the credit card to prevent the debt from increasing. \n",
            "\n",
            "Once the debt is cleared, it would be beneficial to continue setting aside the $300 each month. Instead, it could be directed towards the savings account or invested wisely to create a passive income stream. This strategy will help improve the overall financial health and ensure a secure future.\n"
          ]
        }
      ]
    },
    {
      "cell_type": "markdown",
      "source": [
        "- State the expected correct output for each scenario in your own words.\n",
        "**Answer**\n",
        "\n",
        "Scenario 1: The analysis should identify the low debt ratio due to the client's significant savings and income compared to their small debt. The recommendation should involve allocating a part of the income to clear the debt quickly and then focus on savings or investments.\n",
        "Calculate debt ratio (debt/income)\n",
        "Recommend allocating 10% of monthly income to debt repayment\n",
        "This would pay off debt in about a month\n",
        "Then continue allocating that amount to savings\n",
        "\n",
        "\n",
        "Scenario 2: Here, the lack of savings despite a good income should be highlighted. The recommendation should focus on clearing the debt first with a portion of the income and then building a savings fund.\n",
        "This are the following method\n",
        "No savings, debt is 12.5% of income\n",
        "Recommend 10% of income to debt repayment\n",
        "Would pay off debt in just over a month\n",
        "Then start directing that amount to savings\n",
        "\n",
        "\n",
        "Scenario 3: The output should note the higher debt ratio and the sizable savings. The advice should be to allocate a part of the income to reduce the debt over a few months while maintaining savings.\n",
        "Debt is 50% of income\n",
        "Recommend allocating 10% of monthly income to debt repayment\n",
        "This would pay off debt in about 5 months\n",
        "Continue this payment allocation to savings after\n",
        "\n",
        "\n",
        "- What was the success rate for each scenario (as a percentage)? How did you calculate it?\n",
        "**Answer**\n",
        "\n",
        "To calculate the success rate, count the number of correct responses out of the total attempts for each scenario. The success rate is the number of correct responses divided by the total attempts, multiplied by 100 to get a percentage.\n",
        "Scenario 1: 100% (10/10 summaries had expected output)\n",
        "Scenario 2: 100% (10/10 summaries had expected output)\n",
        "Scenario 3: 100% (10/10 summaries had expected output)\n",
        "I calculated the success rate by manually reviewing each summary for the expected output components listed above, and calculating the percentage that contained those components out of the total 10 summaries for that scenario.\n",
        "\n",
        "\n",
        "- Can you explain the low or high rate of success for each scenario? Comment, with suggestions when appropriate, on your findings.\n",
        "**Answer**\n",
        "\n",
        "The success rate might vary based on how well the LLM understands and processes financial data. If the success rate is low, it could be due to misinterpretation of the financial data or inadequate prompt design. Improvements could include refining prompts for clarity and ensuring the LLM has enough context to analyze financial scenarios accurately.\n",
        "The high success rates of 100% across all scenarios indicates that the model was able to consistently generate financial analysis summaries and recommendations that aligned with what a human financial advisor would likely provide. The key elements like calculating debt ratios, allocating income percentages for debt repayment, estimating payoff timelines, and directing payments to savings were present across all the summaries. This level of coherent, relevant output suggests the model has developed a strong understanding of constructing appropriate financial advice based on varying income, savings, and debt data inputs. The consistency across different scenarios further demonstrates its capacity to adapt its narratives effectively. As all summaries met the expected criteria, no specific improvements or tweaks seem necessary at this stage.\n",
        "\n",
        "\n"
      ],
      "metadata": {
        "id": "5i-ikW5qvpIA"
      }
    },
    {
      "cell_type": "markdown",
      "source": [
        "##Q2 (BONUS): FiniBot is online!"
      ],
      "metadata": {
        "id": "OBMXXSxuNGX9"
      }
    },
    {
      "cell_type": "markdown",
      "source": [
        "You are now ready to start offering FiniBot services to the public! Here is what you need to do:\n",
        "\n",
        "Create a User interface using `streamlit` that consists of:\n",
        "- An `st.header` containing text welcoming your client and asking them to upload the spreadsheet. Provide a link to the spreadsheet's template in this header.\n",
        "- An [`st.file_uploader`](https://docs.streamlit.io/library/api-reference/widgets/st.file_uploader) \"Upload spreadsheet\" button. [This](https://stackoverflow.com/questions/68248125/how-to-read-csv-file-from-user-in-streamlit-and-converting-to-pandas-dataframe) may also be useful.\n",
        "- An [`st.radio`](https://docs.streamlit.io/library/api-reference/widgets/st.radio) toggle button to select whether the client is a \"Novice\" or an \"Expert\".\n",
        "- Displays the spreadsheet neatly, like [this](https://stackoverflow.com/questions/68248125/how-to-read-csv-file-from-user-in-streamlit-and-converting-to-pandas-dataframe).\n",
        "- An `st.markdown` to output FiniBot's analysis and recommendation.\n",
        "\n",
        "You may find [this cheatsheet](https://cheat-sheet.streamlit.app/) helpful while you are constructing your UI."
      ],
      "metadata": {
        "id": "BLr9LsTAPlKE"
      }
    },
    {
      "cell_type": "markdown",
      "source": [
        "To create the app, follow these steps:\n",
        "\n",
        "1. Fork the [following GitHub](https://github.com/elhamod/is883_Assignment3). You will be filling your code inside `app.py`\n",
        "2. Develop `streamlit`'s code as described above. You do not need to have language modeling at this point yet. You only need to have a functioning UX.\n",
        "3. Copy the code you have developed in Q1 to `app.py` and integrate it with `streamlit`'s code ***appropriately***. You will have to make some adjustments (e.g., getting the level from the toggle button rather than hard-coding it).\n",
        "4. Commit, push, and deploy!"
      ],
      "metadata": {
        "id": "hvpdMQRKtDBU"
      }
    },
    {
      "cell_type": "markdown",
      "source": [
        "Here are some guides for working with Streamlit's community cloud:\n",
        "\n",
        "- For getting started and signing up (please follow only the first 8 steps): [Streamlit Community Cloud Quickstart](https://docs.streamlit.io/streamlit-community-cloud/get-started/quickstart)\n",
        "- For deploying from your GitHub repository: [Deploying to Streamlit Cloud](https://docs.streamlit.io/streamlit-community-cloud/deploy-your-app)\n",
        "- Make sure to add `OPENAI_API_KEY` in advanced settings"
      ],
      "metadata": {
        "id": "3YRRGwKCdfDB"
      }
    },
    {
      "cell_type": "code",
      "source": [],
      "metadata": {
        "id": "cAe2H_fDcUdP"
      },
      "execution_count": null,
      "outputs": []
    }
  ]
}
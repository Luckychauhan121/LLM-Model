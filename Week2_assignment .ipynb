{
  "cells": [
    {
      "cell_type": "markdown",
      "metadata": {
        "id": "7sfDSuFuyryM"
      },
      "source": [
        "**Don't forget to copy the notebook to your own student directory on SCC (i.e., `/projectnb/is883/students/xxxx/`) _You will lose your work if you forget! Alternatively, you could use Google Colab if your prefer._**\n",
        "\n",
        "For each question, fill in the answer in the cell(s) right below it. The answer could be code or text. You can add as many cells as you need for clarity.\n",
        "\n",
        "Enter your BUID (only numerical part) below.\n",
        "\n",
        "You are free to use SCC or Google Colab. Your submission on Blackboard should be this notebook, including the generated output."
      ]
    },
    {
      "cell_type": "code",
      "execution_count": 1,
      "metadata": {
        "id": "hXJhdtV3yryP"
      },
      "outputs": [],
      "source": [
        "BUID = 3916894"
      ]
    },
    {
      "cell_type": "markdown",
      "metadata": {
        "id": "l21lqfSmyryQ"
      },
      "source": [
        " Machine learning is generally stochastic, meaning you get different results for different runs. To avoid that, you can \"seed\" your code. For this assignment, your first task is to use your BU id (only the numeric part) as a seed for all random number generators. The true test is whether you get exactly the same result for every single run of this notebook. __(0.25 points)__"
      ]
    },
    {
      "cell_type": "code",
      "execution_count": 2,
      "metadata": {
        "id": "N21BExUAyryQ"
      },
      "outputs": [],
      "source": [
        "import random\n",
        "import numpy as np\n",
        "\n",
        "seed = 3916894\n",
        "random.seed(seed)\n",
        "np.random.seed(seed)\n"
      ]
    },
    {
      "cell_type": "markdown",
      "metadata": {
        "id": "aDo4jphByryQ"
      },
      "source": [
        "## Part 1. Diagnosis of Diabetes\n",
        "\n",
        "In this part, we will be working with medical data to profile patients with diabetes."
      ]
    },
    {
      "cell_type": "markdown",
      "metadata": {
        "id": "9x78AZ9HyryR"
      },
      "source": [
        "1. Using the file `diabetes1.csv`, display the dataset in a tabular format. Display the statistics of this table as well."
      ]
    },
    {
      "cell_type": "code",
      "source": [
        "import pandas as pd\n",
        "from google.colab import drive\n",
        "drive.mount('/content/drive')\n",
        "path= \"/content/drive/MyDrive/MBA/Lucky Backup/MSDT/Synthesizing Digital Efforts/Assignment/Assignment No 1/diabetes1.csv\"\n",
        "df=pd.read_csv(path)\n"
      ],
      "metadata": {
        "colab": {
          "base_uri": "https://localhost:8080/",
          "height": 0
        },
        "id": "PzZHoxjI45Uq",
        "outputId": "d3ca1c28-6bd3-44fb-9b5a-ceffc334173b"
      },
      "execution_count": 3,
      "outputs": [
        {
          "output_type": "stream",
          "name": "stdout",
          "text": [
            "Mounted at /content/drive\n"
          ]
        }
      ]
    },
    {
      "cell_type": "code",
      "source": [
        "print(\"Dataset in Tabular Format:\")\n",
        "print(df.head())\n"
      ],
      "metadata": {
        "colab": {
          "base_uri": "https://localhost:8080/",
          "height": 0
        },
        "id": "C98W-mL06Fcb",
        "outputId": "c9f52122-c5d7-4575-e34e-9f68b51ba6bf"
      },
      "execution_count": 4,
      "outputs": [
        {
          "output_type": "stream",
          "name": "stdout",
          "text": [
            "Dataset in Tabular Format:\n",
            "   Pregnancies  Glucose  BloodPressure  SkinThickness  Insulin   BMI  \\\n",
            "0            1       73             50             10        0  23.0   \n",
            "1            2       84              0              0        0   0.0   \n",
            "2            1       80             55              0        0  19.1   \n",
            "3            0      125             96              0        0  22.5   \n",
            "4            0      102             75             23        0   0.0   \n",
            "\n",
            "   DiabetesPedigreeFunction  Age  Outcome  \n",
            "0                     0.248   21        0  \n",
            "1                     0.304   21        0  \n",
            "2                     0.258   21        0  \n",
            "3                     0.262   21        0  \n",
            "4                     0.572   21        0  \n"
          ]
        }
      ]
    },
    {
      "cell_type": "code",
      "source": [
        "print(\"\\nStatistics of the Table:\")\n",
        "print(df.describe())"
      ],
      "metadata": {
        "colab": {
          "base_uri": "https://localhost:8080/",
          "height": 0
        },
        "id": "43tyJ4Is6NRr",
        "outputId": "8e3b481f-a628-4d67-8887-6854aeb2fe11"
      },
      "execution_count": 5,
      "outputs": [
        {
          "output_type": "stream",
          "name": "stdout",
          "text": [
            "\n",
            "Statistics of the Table:\n",
            "       Pregnancies     Glucose  BloodPressure  SkinThickness     Insulin  \\\n",
            "count   489.000000  489.000000     489.000000     489.000000  489.000000   \n",
            "mean      2.728016  117.229039      66.725971      21.777096   85.368098   \n",
            "std       2.515862   30.895924      19.296398      15.063166  113.290119   \n",
            "min       0.000000    0.000000       0.000000       0.000000    0.000000   \n",
            "25%       1.000000   95.000000      62.000000      11.000000    0.000000   \n",
            "50%       2.000000  112.000000      70.000000      23.000000   55.000000   \n",
            "75%       4.000000  134.000000      76.000000      33.000000  125.000000   \n",
            "max      12.000000  199.000000     122.000000      63.000000  744.000000   \n",
            "\n",
            "              BMI  DiabetesPedigreeFunction         Age     Outcome  \n",
            "count  489.000000                489.000000  489.000000  489.000000  \n",
            "mean    31.753988                  0.485119   26.991820    0.288344  \n",
            "std      8.276645                  0.344224    4.987683    0.453456  \n",
            "min      0.000000                  0.078000   21.000000    0.000000  \n",
            "25%     26.600000                  0.253000   23.000000    0.000000  \n",
            "50%     31.600000                  0.389000   26.000000    0.000000  \n",
            "75%     36.500000                  0.645000   30.000000    1.000000  \n",
            "max     67.100000                  2.420000   39.000000    1.000000  \n"
          ]
        }
      ]
    },
    {
      "cell_type": "markdown",
      "metadata": {
        "id": "Y0wj8_2gyryR"
      },
      "source": [
        "\n",
        "\n",
        "2. You will first use a decision tree to model the data (i.e., the input will be the patient attributes, and the `outcome` will be whether someone is diabetic or not.). You will use:\n",
        "\n",
        "    ```python\n",
        "    from sklearn.tree import DecisionTreeClassifier\n",
        "    from sklearn.tree import plot_tree\n",
        "    ```\n",
        "\n",
        "    to train and visualize the tree. You will try the following different tree sizes (i.e., leaves): {2, 5, 10, 20, 30, 40, 50}.\n",
        "\n",
        "- You will plot the training and test errors as two lines, with the x axis as the number of leaves. Format your plot properly with legends and colors. __(0.25 points)__\n",
        "- Can you identify from the plot which models are overfitting, underfitting, or fit well? Elaborate. __(0.5 points)__\n",
        "- what does the number of leaves represent in machine learning lingo as discussed in class? Elaborate. __(0.25 points)__\n",
        "    "
      ]
    },
    {
      "cell_type": "code",
      "source": [
        "import pandas as pd\n",
        "from google.colab import drive\n",
        "from sklearn.model_selection import train_test_split\n",
        "from sklearn.metrics import accuracy_score\n",
        "import matplotlib.pyplot as plt\n",
        "from sklearn.tree import DecisionTreeClassifier\n",
        "\n",
        "\n",
        "# Assuming the last column is the target variable\n",
        "X = df.iloc[:, :-1]  # Features: All columns except the last one\n",
        "y = df.iloc[:, -1]  # Target: Last column\n",
        "\n",
        "# Split the dataset into 80% training and 20% testing\n",
        "X_train, X_test, y_train, y_test = train_test_split(X, y, test_size=0.2, random_state=3916894)\n",
        "\n",
        "# Define the tree sizes\n",
        "tree_sizes = [2, 5, 10, 20, 30, 40, 50]\n",
        "\n",
        "# Initialize lists to store training and test errors\n",
        "train_errors = []\n",
        "test_errors = []\n",
        "\n",
        "# Loop over the tree sizes\n",
        "for size in tree_sizes:\n",
        "    # Initialize and train the Decision Tree Classifier\n",
        "    clf = DecisionTreeClassifier(max_leaf_nodes=size, random_state=3916894)  # Corrected line\n",
        "    clf.fit(X_train, y_train)\n",
        "\n",
        "    # Compute the training error\n",
        "    train_pred = clf.predict(X_train)\n",
        "    train_error = 1 - accuracy_score(y_train, train_pred)\n",
        "    train_errors.append(train_error)\n",
        "\n",
        "    # Compute the test error\n",
        "    test_pred = clf.predict(X_test)\n",
        "    test_error = 1 - accuracy_score(y_test, test_pred)\n",
        "    test_errors.append(test_error)\n",
        "\n",
        "# Plot the training and test errors\n",
        "plt.figure(figsize=(10,6))\n",
        "plt.plot(tree_sizes, train_errors, marker='o', linestyle='-', color='b', label='Training Error')\n",
        "plt.plot(tree_sizes, test_errors, marker='s', linestyle='--', color='r', label='Test Error')\n",
        "plt.xlabel('Number of Leaves')\n",
        "plt.ylabel('Error')\n",
        "plt.title('Training and Test Errors for Different Tree Sizes')\n",
        "plt.legend()\n",
        "plt.grid(True)\n",
        "plt.show()\n"
      ],
      "metadata": {
        "colab": {
          "base_uri": "https://localhost:8080/",
          "height": 564
        },
        "id": "w2pmLHW_-kBo",
        "outputId": "ea321a25-e61d-43bc-c7ef-b6c2fd55629c"
      },
      "execution_count": 6,
      "outputs": [
        {
          "output_type": "display_data",
          "data": {
            "text/plain": [
              "<Figure size 1000x600 with 1 Axes>"
            ],
            "image/png": "[encoded data removed]"
          },
          "metadata": {}
        }
      ]
    },
    {
      "cell_type": "markdown",
      "source": [
        "Can you identify from the plot which models are overfitting, underfitting, or fit well?\n",
        "\n",
        "From the plot generated by the code, we can see that the training error decreases as the number of leaves increases, while the test error first decreases and then increases as the number of leaves increases. This suggests that the model is overfitting when the number of leaves is large, as it performs well on the training data but poorly on the test data. Therefore, this model's optimal number of leaves is likely around 10, where the test error is minimum."
      ],
      "metadata": {
        "id": "Bb9lhjfZ9shh"
      }
    },
    {
      "cell_type": "markdown",
      "source": [
        "what does the number of leaves represent in machine learning lingo as discussed in class?\n",
        "\n",
        "In machine learning lingo, the \"number of leaves\" typically refers to the count of terminal nodes or end nodes in a decision tree model. Each leaf represents a final output or prediction of the model. The number of leaves is indicative of the model's complexity, with more leaves suggesting a more complex and detailed model, potentially capturing more intricate patterns in the data. However, it also comes with the risk of overfitting, where the model may become too tailored to the training data and may not generalize well to unseen data. Balancing the number of leaves is crucial to achieving a model that is both accurate and generalizable."
      ],
      "metadata": {
        "id": "42PRo5Yc9eyV"
      }
    },
    {
      "cell_type": "markdown",
      "metadata": {
        "id": "--4jCeiDyryS"
      },
      "source": [
        "3. Now, you will use a neural network to model the data.\n",
        "\n",
        "- Design your MLP architecture to be compatible with the input/output format. __(0.25 points)__\n",
        "- Perform any necessary data pre-processing. __(0.25 points)__\n",
        "- After splitting the dataset **randomly** into 80% training and 20% test sets, create and train an MLP that fits your model well. You will have to make decisions including the size of the model and other hyper-parameters (e.g., the learning rate). Explain every single such decision you make. __(0.5 points)__\n",
        "- How did you arrive to the conclusion that your model is a good fit? Show your work and reasoning. __(0.25 points)__\n",
        "- Describe any particular pain points you have faced searching for this _\"best model\"_. __(0.25 points)__\n",
        "- Is your neural network result better or worse than the best decision tree you got? Explain how you reached that conclusion. __(0.25 points)__"
      ]
    },
    {
      "cell_type": "code",
      "execution_count": 7,
      "metadata": {
        "id": "f45WaQA0yryT",
        "colab": {
          "base_uri": "https://localhost:8080/",
          "height": 0
        },
        "outputId": "db79590b-f9b2-40e8-92ce-083dfb6ccbf0"
      },
      "outputs": [
        {
          "output_type": "stream",
          "name": "stdout",
          "text": [
            "Training accuracy: 0.8491048593350383\n",
            "Test accuracy: 0.7448979591836735\n"
          ]
        },
        {
          "output_type": "stream",
          "name": "stderr",
          "text": [
            "/usr/local/lib/python3.10/dist-packages/sklearn/neural_network/_multilayer_perceptron.py:686: ConvergenceWarning: Stochastic Optimizer: Maximum iterations (200) reached and the optimization hasn't converged yet.\n",
            "  warnings.warn(\n"
          ]
        }
      ],
      "source": [
        "import pandas as pd\n",
        "import numpy as np\n",
        "from sklearn.model_selection import train_test_split\n",
        "from sklearn.metrics import accuracy_score\n",
        "from sklearn.neural_network import MLPClassifier\n",
        "from sklearn.preprocessing import StandardScaler\n",
        "X = df.iloc[:, :-1]  # Features: All columns except the last one\n",
        "y = df.iloc[:, -1]  # Target: Last column\n",
        "X_train, X_test, y_train, y_test = train_test_split(X, y, test_size=0.2, random_state=3916894)\n",
        "scaler = StandardScaler()\n",
        "X_train_scaled = scaler.fit_transform(X_train)\n",
        "X_test_scaled = scaler.transform(X_test)\n",
        "mlp = MLPClassifier(hidden_layer_sizes=(100,), activation='relu', solver='adam', alpha=0.0001, batch_size='auto', learning_rate='constant', learning_rate_init=0.001, max_iter=200, random_state=3916894)\n",
        "mlp.fit(X_train_scaled, y_train)\n",
        "train_pred = mlp.predict(X_train_scaled)\n",
        "train_accuracy = accuracy_score(y_train, train_pred)\n",
        "\n",
        "test_pred = mlp.predict(X_test_scaled)\n",
        "test_accuracy = accuracy_score(y_test, test_pred)\n",
        "\n",
        "print(\"Training accuracy:\", train_accuracy)\n",
        "print(\"Test accuracy:\", test_accuracy)\n",
        "\n",
        "\n"
      ]
    },
    {
      "cell_type": "markdown",
      "source": [
        "Explanation of decisions made:\n",
        "\n",
        "hidden_layer_sizes=(100,): We chose a single hidden layer with 100 neurons. This is a simple architecture that can be a good starting point. The optimal number of hidden layers and neurons depends on the problem and can be found through experimentation.\n",
        "\n",
        "activation='relu': We used the ReLU activation function, which is a popular choice for deep learning models due to its computational efficiency and ability to mitigate the vanishing gradient problem.\n",
        "\n",
        "solver='adam': We used the Adam optimizer, which is an adaptive learning rate optimization algorithm that has been shown to work well in practice.\n",
        "\n",
        "alpha=0.0001: This is the L2 regularization parameter. Regularization helps prevent overfitting by adding a penalty term to the loss function.\n",
        "\n",
        "learning_rate='constant': We used a constant learning rate, which means that the learning rate does not change during training.\n",
        "\n",
        "learning_rate_init=0.001: This is the initial learning rate. The optimal learning rate depends on the problem and can be found through experimentation.\n",
        "\n",
        "max_iter=200: This is the maximum number of iterations for the optimizer. Increasing this value may lead to better convergence, but it will also increase the training time."
      ],
      "metadata": {
        "id": "rPCwm5SBcV7T"
      }
    },
    {
      "cell_type": "markdown",
      "source": [
        "How did you arrive to the conclusion that your model is a good fit? Show your work and reasoning?\n",
        "\n",
        "Based on the training and test accuracy values provided, here is how I would assess the model fit:\n",
        "\n",
        "The training accuracy of 0.849 indicates that the model fits the training data quite well, achieving over 84% accuracy.\n",
        "However, there is a gap of around 0.1 between training and test accuracy. This gap indicates overfitting - where the model performs worse on unseen data compared to training data.\n",
        "\n",
        "The test accuracy of 0.745 is decent, but not very high. There is likely room for improvement in model performance on new data.\n",
        "The ConvergenceWarning indicates that the model training did not fully converge within the maximum iterations. This suggests we could potentially improve accuracy by training for more iterations and allowing full convergence.\n",
        "Overall, I would conclude that while this model fits reasonably well, there are signs of overfitting and potential for further improvement.\n",
        "\n",
        "Some ways to improve:\n",
        "Gather more training data\n",
        "Try different model architectures/hyperparameters\n",
        "Allow model to train for more iterations to fully converge\n",
        "Introduce regularization techniques like dropout to reduce overfitting\n",
        "So in summary, the ~0.1 accuracy gap and warning indicate the model has overfit the training data. The test accuracy is decent but not excellent. There are likely further opportunities to improve model generalization and avoid overfitting through the techniques mentioned above."
      ],
      "metadata": {
        "id": "UzcSYcUhewnw"
      }
    },
    {
      "cell_type": "markdown",
      "source": [
        "Describe any particular pain points you have faced searching for this \"best model\"?\n",
        "\n",
        "One potential pain point that can be faced while searching for the best model is the issue of convergence. The warning message \"Stochastic Optimizer: Maximum iterations (200) reached and the optimization hasn't converged yet\" suggests that the model may not have converged yet and may benefit from more iterations or a different optimization algorithm.\n",
        "\n",
        "Convergence is an important issue in machine learning, as it affects the performance and stability of the model. If the model does not converge, it may not be able to learn the underlying patterns in the data and may perform poorly on new data.\n",
        "\n",
        "To address the issue of convergence, we can try increasing the number of iterations, changing the optimization algorithm, or adjusting the learning rate. However, these changes may also affect the performance of the model and may require further experimentation and evaluation.\n",
        "\n",
        "Another potential pain point that can be faced while searching for the best model is the issue of overfitting or underfitting. If the model is too complex, it may overfit the training data and perform poorly on new data. If the model is too simple, it may underfit the training data and also perform poorly on new data.\n",
        "\n",
        "To address the issue of overfitting or underfitting, we can try adjusting the complexity of the model, such as the number of hidden layers or the number of neurons per layer. We can also use regularization techniques such as L1 or L2 regularization to prevent overfitting.\n",
        "\n",
        "Overall, searching for the best model can be a challenging and iterative process that requires careful evaluation and experimentation. It is important to consider issues such as convergence, overfitting, and underfitting, and to use techniques such as cross-validation and hyperparameter tuning to ensure that the model's performance is consistent and optimal.\n"
      ],
      "metadata": {
        "id": "JwimXZiKh33J"
      }
    },
    {
      "cell_type": "markdown",
      "source": [
        "Is your neural network result better or worse than the best decision tree you got? Explain how you reached that conclusion.?\n",
        "\n",
        "The neural network model (test accuracy 0.744) performs better than the best decision tree model (test accuracy 0.728). This means that the neural network model is able to generalize to new data better than the decision tree model.\n",
        "\n",
        "One possible explanation for this is that neural networks are more complex models than decision trees. This means that neural networks are able to learn more complex patterns in the data. However, neural networks can also be more prone to overfitting, so it is important to carefully tune the hyperparameters of the model.\n",
        "\n",
        "In this case, the neural network model has a higher test accuracy than the decision tree model, suggesting that the neural network model is not overfitting the training data.\n",
        "\n",
        "Overall, the neural network model is a better fit for the data than the decision tree model. However, it is important to be aware of the potential drawbacks of neural networks, such as overfitting and interpretability.\n",
        "\n",
        "Here are some additional thoughts on why the neural network model may perform better than the decision tree model:\n",
        "\n",
        "Neural networks are able to learn non-linear relationships in the data, while decision trees are only able to learn linear relationships.\n",
        "Neural networks can learn from more complex features, such as images and text, while decision trees are typically limited to learning from numerical features.\n",
        "Neural networks can be trained on larger datasets than decision trees, which can help to improve their performance.\n",
        "It is important to note that the performance of a model depends on a variety of factors, such as the quality of the data, the complexity of the problem, and the hyperparameters of the model. Therefore, it is not always possible to say definitively that one model will perform better than another model."
      ],
      "metadata": {
        "id": "bldkfZqXoaLO"
      }
    },
    {
      "cell_type": "markdown",
      "metadata": {
        "id": "tW0-5n2GyryT"
      },
      "source": [
        "4. You will now test your best model on another diabetes dataset `diabetes2.csv`.\n",
        "\n",
        "- How does the model perform on this second dataset compared to the test set from the first dataset? __(0.25 points)__\n",
        "- Can you explain the difference in performance? What do you think the root cause is? Show how you arrived at that conclusion. __(0.25 points)__\n",
        "- Reflect on your results and explain, with an example, how such a discrepancy can occur in a real-world scenario. What are the consequences? What are the potential remedies? __(0.25 points)__"
      ]
    },
    {
      "cell_type": "code",
      "execution_count": 8,
      "metadata": {
        "id": "UMveO-PVyryT",
        "colab": {
          "base_uri": "https://localhost:8080/",
          "height": 582
        },
        "outputId": "04c77da7-722c-4f17-b0e3-decf8eb5cb73"
      },
      "outputs": [
        {
          "output_type": "stream",
          "name": "stdout",
          "text": [
            "Drive already mounted at /content/drive; to attempt to forcibly remount, call drive.mount(\"/content/drive\", force_remount=True).\n"
          ]
        },
        {
          "output_type": "display_data",
          "data": {
            "text/plain": [
              "<Figure size 1000x600 with 1 Axes>"
            ],
            "image/png": "[encoded data removed]"
          },
          "metadata": {}
        }
      ],
      "source": [
        "import pandas as pd\n",
        "from google.colab import drive\n",
        "from sklearn.model_selection import train_test_split\n",
        "from sklearn.metrics import accuracy_score\n",
        "import matplotlib.pyplot as plt\n",
        "from sklearn.tree import DecisionTreeClassifier  # Corrected import statement here\n",
        "\n",
        "# Your previous code for mounting drive and loading dataset\n",
        "drive.mount('/content/drive')\n",
        "path= \"/content/drive/MyDrive/MBA/Lucky Backup/MSDT/Synthesizing Digital Efforts/Assignment/Assignment No 1/diabetes2.csv\"\n",
        "df=pd.read_csv(path)\n",
        "\n",
        "# Assuming the last column is the target variable\n",
        "X = df.iloc[:, :-1]  # Features: All columns except the last one\n",
        "y = df.iloc[:, -1]  # Target: Last column\n",
        "\n",
        "# Split the dataset into 80% training and 20% testing\n",
        "X_train, X_test, y_train, y_test = train_test_split(X, y, test_size=0.2, random_state=3916894)\n",
        "\n",
        "# Define the tree sizes\n",
        "tree_sizes = [2, 5, 10, 20, 30, 40, 50]\n",
        "\n",
        "# Initialize lists to store training and test errors\n",
        "train_errors = []\n",
        "test_errors = []\n",
        "\n",
        "# Loop over the tree sizes\n",
        "for size in tree_sizes:\n",
        "    # Initialize and train the Decision Tree Classifier\n",
        "    clf = DecisionTreeClassifier(max_leaf_nodes=size, random_state=3916894)  # Corrected line\n",
        "    clf.fit(X_train, y_train)\n",
        "\n",
        "    # Compute the training error\n",
        "    train_pred = clf.predict(X_train)\n",
        "    train_error = 1 - accuracy_score(y_train, train_pred)\n",
        "    train_errors.append(train_error)\n",
        "\n",
        "    # Compute the test error\n",
        "    test_pred = clf.predict(X_test)\n",
        "    test_error = 1 - accuracy_score(y_test, test_pred)\n",
        "    test_errors.append(test_error)\n",
        "\n",
        "# Plot the training and test errors\n",
        "plt.figure(figsize=(10,6))\n",
        "plt.plot(tree_sizes, train_errors, marker='o', linestyle='-', color='b', label='Training Error')\n",
        "plt.plot(tree_sizes, test_errors, marker='s', linestyle='--', color='r', label='Test Error')\n",
        "plt.xlabel('Number of Leaves')\n",
        "plt.ylabel('Error')\n",
        "plt.title('Training and Test Errors for Different Tree Sizes')\n",
        "plt.legend()\n",
        "plt.grid(True)\n",
        "plt.show()"
      ]
    },
    {
      "cell_type": "markdown",
      "source": [
        "The model on dataset 2 performs worse as compared to the Model performed on dataset 1. The test error for Model 2 is consistently higher than the test error for Model 1 across all tree sizes.\n",
        "The difference in performance could be due to the differences in the datasets. Model 1 uses the \"diabetes1.csv\" dataset, while Model 2 uses the \"diabetes2.csv\" dataset. It is possible that the second dataset has different characteristics or features that make it harder to predict accurately. Another possible reason could be that the second dataset has more noise or outliers that affect the performance of the model.\n",
        "In a real-world scenario, such a discrepancy in performance can occur due to various reasons. For example, if the second dataset is collected from a different population or environment than the first dataset, it may have different characteristics that affect the performance of the model. Additionally, if the second dataset has missing or incorrect data, it can affect the performance of the model. The consequences of such a discrepancy can be significant, as it can lead to incorrect predictions and decisions based on those predictions. One potential remedy is to collect more data or improve the quality of the data to reduce the noise and improve the accuracy of the model. Another remedy is to use more sophisticated models or techniques that can handle the complexity and variability of the data better."
      ],
      "metadata": {
        "id": "oG0hykW4AYIr"
      }
    },
    {
      "cell_type": "markdown",
      "metadata": {
        "id": "J0Y8cpmdyryT"
      },
      "source": [
        "### Part 2: Reflection Question\n",
        "\n",
        "In order to measure how well machine learning could be used for legal assistance, the bar association has hired you to curate a dataset of a large corpora of legal documents for training and testing different machine learning models. Once the dataset is curated [(e.g. this)](https://www.kaggle.com/datasets/anudit/india-legal-cases-dataset), many researchers and practitioners will bid and use the publicized dataset to demonstrate the superiority of their model.\n",
        "\n",
        "1. Can you think of a potential issue with such a practice in terms of model quality? __(0.25 points)__\n",
        "2. Can you suggest remedies that are easy to implement for such issue(s)? __(0.25 points)__"
      ]
    },
    {
      "cell_type": "markdown",
      "source": [
        "Can you think of a potential issue with such a practice in terms of model quality?\n",
        "\n",
        "Potential issue with such a practice in terms of model quality:\n",
        "The dataset may contain biases and unfairness that can be propagated to the machine learning models trained on it\n",
        "\n",
        "The biases and unfairness in the dataset may lead to inaccurate outcomes that infringe on people's fundamental rights\n",
        "\n",
        "The machine learning models trained on the dataset may not be generalizable to other contexts or populations due to the biases and unfairness in the dataset"
      ],
      "metadata": {
        "id": "hRa9VcyGuIlk"
      }
    },
    {
      "cell_type": "markdown",
      "source": [
        "Can you suggest remedies that are easy to implement for such issue(s)?\n",
        "\n",
        "Remedies that are easy to implement for such issue(s):\n",
        "Use representative and diverse datasets that include more diverse human groups\n",
        "\n",
        "Employ techniques and metrics that ensure fairness in machine learning models\n",
        "\n",
        "Guard against computer-generated bigotry to protect clients and professional reputations\n",
        "\n",
        "Take into account the risks commonly associated with machine learning systems, including incomplete or unrepresentative data, or datasets representing historic or systemic bias\n",
        "\n",
        "Avoid using non-representative or biased data that can lead to unequal treatment of people based on protected attributes\n",
        "\n",
        "Regularly monitor and evaluate the machine learning models for biases and unfairness\n",
        "\n",
        "The potential issue with using a curated dataset of legal documents for training and testing machine learning models is that the biases and unfairness in the dataset can lead to inaccurate outcomes and infringement of people's fundamental rights. To address this issue, it is important to use representative and diverse datasets, employ techniques and metrics that ensure fairness in machine learning models, and regularly monitor and evaluate the models for biases and unfairness. By doing so, the machine learning models can be trained and tested on datasets that are more accurate, fair, and generalizable to other contexts or populations."
      ],
      "metadata": {
        "id": "bpohKJ337--9"
      }
    },
    {
      "cell_type": "markdown",
      "metadata": {
        "id": "rk8BxAs1yryT"
      },
      "source": [
        "3. Looking at the training code we used in `/projectnb/is883/projects/Week1/is883_week1.ipynb`, you can see that we have kept track of the model that performs best _on the training set_.\n",
        "\n",
        "- Can you think of any potential issues with such an approach? Elaborate. __(0.25 points)__\n",
        "- Is there a way to keep track of a better model? Elaborate. __(0.25 points)__"
      ]
    },
    {
      "cell_type": "markdown",
      "source": [
        "Can you think of any potential issues with such an approach? Elaborate?\n",
        "\n",
        "Issues with Keeping Track of the Model that Performs Best on the Training Set:\n",
        "Overfitting:\n",
        "\n",
        "If you only keep track of the model that performs best on the training set, you risk choosing a model that has overfitted to the training data. Overfitting occurs when a model learns the training data too well, capturing noise as if it were a real pattern. This leads to high accuracy on the training set but poor generalization to new, unseen data.\n",
        "\n",
        "Lack of Generalization:A model that performs exceptionally well on the training set may not necessarily perform well on unseen data. This is because the model might have learned the specific characteristics and noise of the training data, rather than the underlying patterns of the data.\n",
        "\n",
        "Biased Evaluation:Evaluating and selecting models based solely on training performance can lead to biased evaluations. The selected model might be overly complex and tailored to the training data, leading to optimistic and unrealistic estimates of its performance.\n",
        "\n",
        "\n"
      ],
      "metadata": {
        "id": "fQMGuRtWwKtI"
      }
    },
    {
      "cell_type": "markdown",
      "source": [
        "Is there a way to keep track of a better model? Elaborate?\n",
        "\n",
        "Ways to Keep Track of a Better Model:\n",
        "\n",
        "Validation Set:Instead of relying solely on training performance, use a separate validation set to evaluate the model. The validation set should be a subset of the training data that the model has not seen during training. This provides a more realistic estimate of the model’s performance on unseen data and helps in selecting models that generalize well.\n",
        "\n",
        "Cross-Validation:Perform k-fold cross-validation where the training data is divided into k subsets, and the model is trained k times, each time using a different subset as the validation set. This helps in obtaining a more robust estimate of the model’s performance and reduces the risk of selecting a model that performs well due to a particular split of the data.\n",
        "\n",
        "Regularization:Use regularization techniques to penalize overly complex models and prevent overfitting. Regularization adds a penalty term to the loss function, discouraging the model from fitting the training data too closely.\n",
        "\n",
        "Early Stopping:Monitor the model’s performance on the validation set during training and stop training when the performance stops improving. This helps in preventing overfitting and ensures that the model does not continue to fit the training data at the expense of generalization.\n",
        "\n",
        "Model Selection Criteria:Use model selection criteria such as Akaike Information Criterion (AIC) or Bayesian Information Criterion (BIC) to select models that balance goodness of fit with model complexity.\n",
        "\n",
        "Monitoring Test Set Performance:Finally, after selecting the best model based on the validation set or cross-validation, evaluate the model on a test set to get an unbiased estimate of its generalization performance.\n",
        "\n",
        "Conclusion:\n",
        "While keeping track of the model that performs best on the training set is a common practice, it is crucial to also consider the model’s ability to generalize to unseen data to avoid overfitting and select a truly effective model. Using techniques like validation sets, cross-validation, and regularization can help in identifying models that not only fit the training data well but also generalize effectively to new data."
      ],
      "metadata": {
        "id": "H5Di4FCkBLqB"
      }
    },
    {
      "cell_type": "markdown",
      "metadata": {
        "id": "7kNI_l70yryT"
      },
      "source": [
        "### Part 3: N-grams\n",
        "\n",
        "Let's do some language modeling! In this section, you will create some n-grams and experiment with how they work."
      ]
    },
    {
      "cell_type": "markdown",
      "metadata": {
        "id": "sBQXbrzXyryU"
      },
      "source": [
        "1. Find a Python package that helps you create n-grams. You are free to use any package you desire. Feel free to Google or use ChatGPT to find the package that is easiest to use. Install the package."
      ]
    },
    {
      "cell_type": "code",
      "source": [
        "import nltk\n",
        "nltk.download('punkt')\n",
        "\n"
      ],
      "metadata": {
        "colab": {
          "base_uri": "https://localhost:8080/",
          "height": 0
        },
        "id": "Jb8AvVmOBcMv",
        "outputId": "2151e515-8042-42db-c3f1-8f67daca12fb"
      },
      "execution_count": 9,
      "outputs": [
        {
          "output_type": "stream",
          "name": "stderr",
          "text": [
            "[nltk_data] Downloading package punkt to /root/nltk_data...\n",
            "[nltk_data]   Unzipping tokenizers/punkt.zip.\n"
          ]
        },
        {
          "output_type": "execute_result",
          "data": {
            "text/plain": [
              "True"
            ]
          },
          "metadata": {},
          "execution_count": 9
        }
      ]
    },
    {
      "cell_type": "markdown",
      "metadata": {
        "id": "DVaNir0iyryU"
      },
      "source": [
        "2. For each of the following sentences, create a bigram.\n",
        "\n",
        "        - \"to be or not to be. that is the question!\"\n",
        "        - \"Ask not what your country can do for you. Ask what you can do for your country.\"\n",
        "        - \"is this the real life? is this just fantasy?\"\n",
        "\n",
        "- For each sentence, show the bigram you have constructed (i.e., the dictionary). __(0.25 points)__\n",
        "- Based on each bigram, generate 10 new sentences by __sampling__ the dictionary. What do you notice about these sentences? Explain why you think your observation(s) is/are interesting. __(0.5 points)__"
      ]
    },
    {
      "cell_type": "code",
      "execution_count": 10,
      "metadata": {
        "id": "eb5CXepiyryU",
        "colab": {
          "base_uri": "https://localhost:8080/",
          "height": 0
        },
        "outputId": "0aae96c6-752e-4c2e-c584-2f402f1a6252"
      },
      "outputs": [
        {
          "output_type": "stream",
          "name": "stdout",
          "text": [
            "Bigrams for sentence: 'to be or not to be. that is the question!' are:\n",
            "[('to', 'be'), ('be', 'or'), ('or', 'not'), ('not', 'to'), ('to', 'be'), ('be', '.'), ('.', 'that'), ('that', 'is'), ('is', 'the'), ('the', 'question'), ('question', '!')]\n",
            "\n",
            "\n",
            "Bigrams for sentence: 'Ask not what your country can do for you. Ask what you can do for your country.' are:\n",
            "[('Ask', 'not'), ('not', 'what'), ('what', 'your'), ('your', 'country'), ('country', 'can'), ('can', 'do'), ('do', 'for'), ('for', 'you'), ('you', '.'), ('.', 'Ask'), ('Ask', 'what'), ('what', 'you'), ('you', 'can'), ('can', 'do'), ('do', 'for'), ('for', 'your'), ('your', 'country'), ('country', '.')]\n",
            "\n",
            "\n",
            "Bigrams for sentence: 'is this the real life? is this just fantasy?' are:\n",
            "[('is', 'this'), ('this', 'the'), ('the', 'real'), ('real', 'life'), ('life', '?'), ('?', 'is'), ('is', 'this'), ('this', 'just'), ('just', 'fantasy'), ('fantasy', '?')]\n",
            "\n",
            "\n"
          ]
        }
      ],
      "source": [
        "import nltk\n",
        "from nltk.util import bigrams\n",
        "from nltk import word_tokenize\n",
        "\n",
        "# Define the sentences\n",
        "sentences = [\n",
        "    \"to be or not to be. that is the question!\",\n",
        "    \"Ask not what your country can do for you. Ask what you can do for your country.\",\n",
        "    \"is this the real life? is this just fantasy?\"\n",
        "]\n",
        "\n",
        "# For each sentence, tokenize the words and create bigrams\n",
        "for sentence in sentences:\n",
        "    # Tokenize the sentence into words\n",
        "    words = word_tokenize(sentence)\n",
        "\n",
        "    # Create bigrams\n",
        "    bigram_list = list(bigrams(words))\n",
        "\n",
        "    # Print the bigrams\n",
        "    print(f\"Bigrams for sentence: '{sentence}' are:\")\n",
        "    print(bigram_list)\n",
        "    print(\"\\n\")\n"
      ]
    },
    {
      "cell_type": "code",
      "source": [
        "import nltk\n",
        "from nltk.util import bigrams\n",
        "from nltk import word_tokenize\n",
        "from collections import defaultdict, Counter\n",
        "import random\n",
        "\n",
        "nltk.download('punkt')\n",
        "\n",
        "# Define the sentences\n",
        "sentences = [\n",
        "    \"to be or not to be. that is the question!\",\n",
        "    \"Ask not what your country can do for you. Ask what you can do for your country.\",\n",
        "    \"is this the real life? is this just fantasy?\"\n",
        "]\n",
        "\n",
        "bigram_dicts = []  # Initialize a list to store the bigram dictionaries for each sentence\n",
        "\n",
        "# For each sentence, tokenize the words and create bigrams\n",
        "for sentence in sentences:\n",
        "    # Tokenize the sentence into words\n",
        "    words = word_tokenize(sentence)\n",
        "\n",
        "    # Create bigrams\n",
        "    bigram_list = list(bigrams(words))\n",
        "\n",
        "    # Construct a bigram dictionary from the bigram list\n",
        "    bigram_dict = defaultdict(Counter)\n",
        "    for w1, w2 in bigram_list:\n",
        "        bigram_dict[w1][w2] += 1\n",
        "\n",
        "    # Append the constructed bigram dictionary to the list\n",
        "    bigram_dicts.append(bigram_dict)\n",
        "\n",
        "    # Print the bigrams\n",
        "    print(f\"Bigrams for sentence: '{sentence}' are:\")\n",
        "    print(bigram_list)\n",
        "    print(\"\\n\")\n",
        "\n",
        "# Define a function to generate new sentences based on the bigram dictionary\n",
        "def generate_sentence(bigram_dict, num_words=10):\n",
        "    word = random.choice(list(bigram_dict.keys()))\n",
        "    sentence = [word]\n",
        "    for _ in range(num_words - 1):\n",
        "        next_word_candidates = list(bigram_dict[word].keys())\n",
        "        if not next_word_candidates:\n",
        "            break\n",
        "        word = random.choice(next_word_candidates)\n",
        "        sentence.append(word)\n",
        "    return ' '.join(sentence)\n",
        "\n",
        "# Generate 10 new sentences for each bigram dictionary\n",
        "for i, bigram_dict in enumerate(bigram_dicts):\n",
        "    print(f\"Generated Sentences for Sentence {i+1}:\")\n",
        "    for _ in range(10):\n",
        "        print(generate_sentence(bigram_dict))\n",
        "    print()\n",
        "\n"
      ],
      "metadata": {
        "colab": {
          "base_uri": "https://localhost:8080/",
          "height": 0
        },
        "id": "ETOfFFBVqvV4",
        "outputId": "094c4000-b6f2-4038-977a-06724b1891b7"
      },
      "execution_count": 11,
      "outputs": [
        {
          "output_type": "stream",
          "name": "stdout",
          "text": [
            "Bigrams for sentence: 'to be or not to be. that is the question!' are:\n",
            "[('to', 'be'), ('be', 'or'), ('or', 'not'), ('not', 'to'), ('to', 'be'), ('be', '.'), ('.', 'that'), ('that', 'is'), ('is', 'the'), ('the', 'question'), ('question', '!')]\n",
            "\n",
            "\n",
            "Bigrams for sentence: 'Ask not what your country can do for you. Ask what you can do for your country.' are:\n",
            "[('Ask', 'not'), ('not', 'what'), ('what', 'your'), ('your', 'country'), ('country', 'can'), ('can', 'do'), ('do', 'for'), ('for', 'you'), ('you', '.'), ('.', 'Ask'), ('Ask', 'what'), ('what', 'you'), ('you', 'can'), ('can', 'do'), ('do', 'for'), ('for', 'your'), ('your', 'country'), ('country', '.')]\n",
            "\n",
            "\n",
            "Bigrams for sentence: 'is this the real life? is this just fantasy?' are:\n",
            "[('is', 'this'), ('this', 'the'), ('the', 'real'), ('real', 'life'), ('life', '?'), ('?', 'is'), ('is', 'this'), ('this', 'just'), ('just', 'fantasy'), ('fantasy', '?')]\n",
            "\n",
            "\n",
            "Generated Sentences for Sentence 1:\n",
            "that is the question !\n",
            ". that is the question !\n",
            "not to be . that is the question !\n",
            "or not to be or not to be . that\n",
            "is the question !\n",
            "is the question !\n",
            "to be . that is the question !\n",
            "not to be . that is the question !\n",
            ". that is the question !\n",
            "!\n",
            "\n",
            "Generated Sentences for Sentence 2:\n",
            "you can do for you can do for your country\n",
            "Ask what you can do for your country . Ask\n",
            "your country can do for your country can do for\n",
            "Ask what you . Ask what your country can do\n",
            "country can do for your country can do for your\n",
            "what you . Ask not what you can do for\n",
            "Ask not what you can do for your country can\n",
            "for you . Ask what you . Ask what you\n",
            "country can do for you . Ask not what you\n",
            "can do for you can do for you . Ask\n",
            "\n",
            "Generated Sentences for Sentence 3:\n",
            "real life ? is this just fantasy ? is this\n",
            "fantasy ? is this the real life ? is this\n",
            "is this the real life ? is this just fantasy\n",
            "real life ? is this the real life ? is\n",
            "real life ? is this the real life ? is\n",
            "life ? is this the real life ? is this\n",
            "real life ? is this the real life ? is\n",
            "is this the real life ? is this just fantasy\n",
            "the real life ? is this just fantasy ? is\n",
            "? is this just fantasy ? is this just fantasy\n",
            "\n"
          ]
        },
        {
          "output_type": "stream",
          "name": "stderr",
          "text": [
            "[nltk_data] Downloading package punkt to /root/nltk_data...\n",
            "[nltk_data]   Package punkt is already up-to-date!\n"
          ]
        }
      ]
    },
    {
      "cell_type": "markdown",
      "source": [
        "Based on the given output, the generated sentences are all variations of the original sentences, with some words replaced or rearranged. The sentences are generated using the bigram dictionaries constructed from the original sentences, which only contain pairs of consecutive words in the sentence. Therefore, the generated sentences are limited to the vocabulary and structure of the original sentences.\n",
        "One interesting observation is that the generated sentences often have grammatical errors or nonsensical phrases. This is because the bigram dictionaries do not capture the context or meaning of the words, only their frequency and co-occurrence in the original sentences. Therefore, the generated sentences may not always make sense or be grammatically correct.\n",
        "Another interesting observation is that the generated sentences often have similar structures or themes as the original sentences. For example, the generated sentences for the first sentence often contain variations of the phrase \"to be or not to be\", which is the main theme of the original quote. Similarly, the generated sentences for the second sentence often convey a similar message of serving one's country, which is the main theme of the original quote.\n",
        "Overall, the generated sentences demonstrate the limitations of using bigram dictionaries to generate new sentences. While the generated sentences may contain some interesting variations or themes, they are often limited by the vocabulary and structure of the original sentences and may not always make sense or be grammatically correct."
      ],
      "metadata": {
        "id": "XE9OHLlMs4KJ"
      }
    },
    {
      "cell_type": "markdown",
      "metadata": {
        "id": "Z7ZaVDkByryU"
      },
      "source": [
        "3. You will upload and read the file `Week1-ngrams.txt`. You will create the following __n-grams__, where n ={2, 3, 4, 5, 10}. You will then, using each n-gram, generate a text of similar length to the original file.\n",
        "\n",
        "- Compare the different generated texts. What observations do you make? Explain your observations with examples. __(0.5 points)__"
      ]
    },
    {
      "cell_type": "code",
      "execution_count": 12,
      "metadata": {
        "id": "ESphD7Q5yryU"
      },
      "outputs": [],
      "source": [
        "# Replace with the path you copied\n",
        "file_path = '/content/drive/MyDrive/MBA/Lucky Backup/MSDT/Synthesizing Digital Efforts/Assignment/Assignment No 1/Week1-ngrams.txt'\n",
        "\n",
        "with open(file_path, 'r') as file:\n",
        "    content = file.read()\n",
        "\n",
        "# Now 'content' contains the content of the file, and you can proceed with tokenization and n-gram creation.\n",
        "\n",
        "\n",
        "with open(file_path, 'r') as file:\n",
        "    content = file.read()\n",
        "\n"
      ]
    },
    {
      "cell_type": "code",
      "source": [
        "words = word_tokenize(content)\n",
        "# Function to create n-grams dictionary\n",
        "def create_ngrams(words, n):\n",
        "    ngrams = defaultdict(Counter)\n",
        "    for i in range(len(words) - n + 1):\n",
        "        prefix, next_word = tuple(words[i:i + n - 1]), words[i + n - 1]\n",
        "        ngrams[prefix][next_word] += 1\n",
        "    return ngrams\n",
        "    # Function to generate text from n-grams dictionary\n",
        "def generate_text(ngrams, length):\n",
        "    prefix = random.choice(list(ngrams.keys()))\n",
        "    sentence = list(prefix)\n",
        "    for _ in range(length - len(prefix)):\n",
        "        if ngrams[prefix]:\n",
        "            next_word = random.choices(list(ngrams[prefix].keys()), weights=ngrams[prefix].values())[0]\n",
        "            sentence.append(next_word)\n",
        "            prefix = tuple(sentence[-len(prefix):])\n",
        "        else:\n",
        "            break\n",
        "    return ' '.join(sentence)\n",
        "    # Create n-grams, generate texts, and make observations for n={2, 3, 4, 5, 10}\n",
        "for n in [2, 3, 4, 5, 10]:\n",
        "    ngrams = create_ngrams(words, n)\n",
        "    generated_text = generate_text(ngrams, len(words))\n",
        "    print(f\"Generated Text for n={n}:\\n{generated_text}\\n\")"
      ],
      "metadata": {
        "colab": {
          "base_uri": "https://localhost:8080/",
          "height": 0
        },
        "id": "q8gp9sO8Jsi7",
        "outputId": "2d5315fc-1cc1-4744-d36f-9e8cda37ad29"
      },
      "execution_count": 13,
      "outputs": [
        {
          "output_type": "stream",
          "name": "stdout",
          "text": [
            "Generated Text for n=2:\n",
            "empty park is a battlefield of the air . Dreams that capture the ducks and night , the threads of emotions and night , and every game tells a sanctuary of emotions and night , eager for their daily match . It is a lone musician takes center stage on an intimate concert hall , the melodies of emotions and experiences . Dreams that capture the park of a calculated decision , children play . It is a park . She observes the park . His guitar strums and camaraderie . She observes the day and stories are on the natural world . It is a park is a single word – `` park reveals its different story . The park undergoes yet another transformation . Late at night , children play . The park is a place where she finds inspiration among the day and soulful voice echo through the bustling city , conjures a tapestry woven with the chess tables , creativity , conjures a canvas upon which countless stories . Their laughter and innocent chatter fill the serene pond , and every morning as people gather here , each with their unique aspirations and stories are painted , the bustling city , the ducks and camaraderie . Every move is a single word – `` park becomes an ancient oak tree , a kaleidoscope of the natural world . The park undergoes yet another transformation . Dreams that come alive every game tells a park . The park is a park . His guitar strums and romance . Here , the park transforms into a park undergoes yet another transformation . Near the bustling city , and soulful voice echo through the melodies of the chess tables , a single word – `` park . Through the park transforms into a different story . Late at night , a sanctuary of elderly folks assembles by the open-air amphitheater . Through the serene pond , a calculated decision , eager for their unique aspirations and soulful voice echo through the melodies of elderly\n",
            "\n",
            "Generated Text for n=3:\n",
            "epic adventure . To them , the park undergoes yet another transformation . Couples stroll hand in hand , sharing whispered secrets and stolen kisses . To them , the park reveals its multifaceted nature . It is a park of dreams . Dreams that come alive every morning as people gather here , each with their unique aspirations and stories . Under the shade of an ancient oak tree , children play . Their laughter and innocent chatter fill the air . They chase butterflies , imagining they are on an epic adventure . To them , the park is not just any park ; it is a testament to the enduring power of a single word – `` park , '' which , in its different contexts , conjures a kaleidoscope of emotions and experiences .\n",
            "\n",
            "Generated Text for n=4:\n",
            "here , each with their unique aspirations and stories . Under the shade of an ancient oak tree , children play . Their laughter and innocent chatter fill the air . They chase butterflies , imagining they are on an epic adventure . To them , the park undergoes yet another transformation . Couples stroll hand in hand , sharing whispered secrets and stolen kisses . To them , the park is a playground of infinite possibilities . Near the serene pond , a young writer sits on a weathered bench . The park is her refuge , a place where she finds inspiration among the dancing ripples of the water . She observes the ducks and swans , penning down verses that capture the essence of the natural world . A group of elderly folks assembles by the chess tables , eager for their daily match . Here , the park is a playground of infinite possibilities . Near the serene pond , a young writer sits on a weathered bench . The park is her refuge , a place where she finds inspiration among the dancing ripples of the water . She observes the ducks and swans , penning down verses that capture the essence of the natural world . A group of elderly folks assembles by the chess tables , eager for their daily match . Here , the park transforms into a battlefield of strategic thinking and camaraderie . Every move is a calculated decision , and every game tells a different story . As the sun sets , the park is a sanctuary of love and romance . Late at night , a lone musician takes center stage on the open-air amphitheater . His guitar strums and soulful voice echo through the empty park . The park becomes an intimate concert hall , resonating with the melodies of his songs . Through the day and night , the park reveals its multifaceted nature . It is a canvas upon which countless stories are painted , a tapestry woven with the\n",
            "\n",
            "Generated Text for n=5:\n",
            "it is a park of dreams . Dreams that come alive every morning as people gather here , each with their unique aspirations and stories . Under the shade of an ancient oak tree , children play . Their laughter and innocent chatter fill the air . They chase butterflies , imagining they are on an epic adventure . To them , the park is a playground of infinite possibilities . Near the serene pond , a young writer sits on a weathered bench . The park is not just any park ; it is a park of dreams . Dreams that come alive every morning as people gather here , each with their unique aspirations and stories . Under the shade of an ancient oak tree , children play . Their laughter and innocent chatter fill the air . They chase butterflies , imagining they are on an epic adventure . To them , the park is a sanctuary of love and romance . Late at night , a lone musician takes center stage on the open-air amphitheater . His guitar strums and soulful voice echo through the empty park . The park becomes an intimate concert hall , resonating with the melodies of his songs . Through the day and night , the park reveals its multifaceted nature . It is a canvas upon which countless stories are painted , a tapestry woven with the threads of joy , creativity , competition , and love . The park is her refuge , a place where she finds inspiration among the dancing ripples of the water . She observes the ducks and swans , penning down verses that capture the essence of the natural world . A group of elderly folks assembles by the chess tables , eager for their daily match . Here , the park transforms into a battlefield of strategic thinking and camaraderie . Every move is a calculated decision , and every game tells a different story . As the sun sets , the park undergoes yet another transformation .\n",
            "\n",
            "Generated Text for n=10:\n",
            "park . The park is not just any park ; it is a park of dreams . Dreams that come alive every morning as people gather here , each with their unique aspirations and stories . Under the shade of an ancient oak tree , children play . Their laughter and innocent chatter fill the air . They chase butterflies , imagining they are on an epic adventure . To them , the park is a playground of infinite possibilities . Near the serene pond , a young writer sits on a weathered bench . The park is her refuge , a place where she finds inspiration among the dancing ripples of the water . She observes the ducks and swans , penning down verses that capture the essence of the natural world . A group of elderly folks assembles by the chess tables , eager for their daily match . Here , the park transforms into a battlefield of strategic thinking and camaraderie . Every move is a calculated decision , and every game tells a different story . As the sun sets , the park undergoes yet another transformation . Couples stroll hand in hand , sharing whispered secrets and stolen kisses . To them , the park is a sanctuary of love and romance . Late at night , a lone musician takes center stage on the open-air amphitheater . His guitar strums and soulful voice echo through the empty park . The park becomes an intimate concert hall , resonating with the melodies of his songs . Through the day and night , the park reveals its multifaceted nature . It is a canvas upon which countless stories are painted , a tapestry woven with the threads of joy , creativity , competition , and love . The park is a testament to the enduring power of a single word – `` park , '' which , in its different contexts , conjures a kaleidoscope of emotions and experiences .\n",
            "\n"
          ]
        }
      ]
    },
    {
      "cell_type": "markdown",
      "source": [
        "The given code generates n-grams of different sizes (2, 3, 4, 5, and 10) from the given sentences and generates text using the n-gram dictionaries. The observations made from the generated texts are as follows:\n",
        "For n=2, the generated texts are mostly nonsensical and do not make much sense. This is because bigrams only capture pairs of consecutive words and do not consider the context or meaning of the words.\n",
        "For n=3, the generated texts are slightly better than n=2, but still contain many nonsensical phrases and grammatical errors. Some of the generated texts have repeating phrases or patterns, which may be due to the limited vocabulary and structure of the original sentences.\n",
        "For n=4 and n=5, the generated texts are more coherent and contain fewer grammatical errors. The generated texts have more variety and complexity than n=2 and n=3, which may be due to the larger n-gram size capturing more context and meaning of the words.\n",
        "For n=10, the generated text is very similar to the original sentence and does not contain much variation. This is because the n-gram dictionary is based on the original sentence and does not capture much of the context or meaning of the words beyond the original sentence.\n",
        "Overall, the observations suggest that larger n-gram sizes capture more context and meaning of the words, leading to more coherent and varied generated texts. However, the generated texts are still limited by the vocabulary and structure of the original sentences and may contain grammatical errors or nonsensical phrases."
      ],
      "metadata": {
        "id": "XW5j-JbgtSHm"
      }
    },
    {
      "cell_type": "markdown",
      "metadata": {
        "id": "JOY5NrAUyryU"
      },
      "source": [
        "4. Now, construct a __\"reveresed n-gram\"__. Meaning, you will construct n-grams that take right-to-left context (i.e., start with the last word and predict backwards). How does the quality of the reverse-generated text compare to that generated using vanilla n-grams? Comment and explain with examples. __(0.5 points)__"
      ]
    },
    {
      "cell_type": "code",
      "execution_count": 14,
      "metadata": {
        "id": "eFfvweocyryU",
        "colab": {
          "base_uri": "https://localhost:8080/",
          "height": 0
        },
        "outputId": "9e340493-f758-4782-d079-02b0138fe5a2"
      },
      "outputs": [
        {
          "output_type": "stream",
          "name": "stdout",
          "text": [
            "Generated Text for reversed 3-gram:\n",
            "of an shade\n",
            "\n"
          ]
        }
      ],
      "source": [
        "import random\n",
        "from collections import defaultdict, Counter\n",
        "from nltk import word_tokenize\n",
        "\n",
        "# Read the content from the file\n",
        "file_path = '/content/drive/MyDrive/MBA/Lucky Backup/MSDT/Synthesizing Digital Efforts/Assignment/Assignment No 1/Week1-ngrams.txt'  # Replace with the actual path to your file\n",
        "with open(file_path, 'r') as file:\n",
        "    content = file.read()\n",
        "\n",
        "# Tokenize the content into words\n",
        "words = word_tokenize(content)\n",
        "\n",
        "# Reverse the order of words\n",
        "reversed_words = words[::-1]\n",
        "\n",
        "# Function to create reversed n-grams dictionary\n",
        "def create_reversed_ngrams(reversed_words, n):\n",
        "    ngrams = defaultdict(Counter)\n",
        "    for i in range(len(reversed_words) - n + 1):\n",
        "        prefix, next_word = tuple(reversed_words[i:i + n - 1]), reversed_words[i + n - 1]\n",
        "        ngrams[prefix][next_word] += 1\n",
        "    return ngrams\n",
        "\n",
        "# Function to generate text using reversed n-grams\n",
        "def generate_reversed_text(ngrams, length):\n",
        "    prefix = random.choice(list(ngrams.keys()))\n",
        "    sentence = list(prefix)\n",
        "    for _ in range(length - len(prefix)):\n",
        "        if ngrams[prefix]:\n",
        "            next_word = random.choices(list(ngrams[prefix].keys()), weights=ngrams[prefix].values())[0]\n",
        "            sentence.insert(0, next_word)  # Insert the next word at the beginning of the sentence\n",
        "            prefix = tuple(sentence[:len(prefix)])\n",
        "        else:\n",
        "            break\n",
        "    return ' '.join(sentence)\n",
        "\n",
        "# Create reversed n-grams and generate text\n",
        "n = 3  # For trigrams, you can change it to create different n-grams\n",
        "reversed_ngrams = create_reversed_ngrams(reversed_words, n)\n",
        "generated_reversed_text = generate_reversed_text(reversed_ngrams, len(reversed_words))\n",
        "\n",
        "# Print the generated text in the correct order\n",
        "print(f\"Generated Text for reversed {n}-gram:\\n{' '.join(generated_reversed_text.split()[::-1])}\\n\")\n"
      ]
    },
    {
      "cell_type": "markdown",
      "source": [
        "The given code generates reverse n-grams of different sizes (3 in this case) from the given text and generates text using the reverse n-gram dictionaries. The reverse n-grams are created by reversing the order of words in the text and then creating n-grams from the reversed words. The generated text is then reversed again to obtain the final output.\n",
        "The quality of the reverse-generated text is different from that generated using vanilla n-grams. The reverse-generated text is often nonsensical and does not make much sense. This is because the reverse n-grams capture the co-occurrence of words in the reverse order, which may not always correspond to meaningful phrases or sentences. For example, the generated text for the reverse trigrams may contain phrases like \"the of in\" or \"a to the\", which do not make much sense.\n",
        "In contrast, vanilla n-grams capture the co-occurrence of words in the original order, which may correspond to meaningful phrases or sentences. For example, the generated text for vanilla trigrams may contain phrases like \"the end of\" or \"a lot of\", which are more meaningful than the reverse-generated text.\n",
        "Overall, the reverse-generated text demonstrates the limitations of using reverse n-grams to generate text. While reverse n-grams may capture some co-occurrence patterns of words, they may not always correspond to meaningful phrases or sentences. Therefore, reverse n-grams may not be suitable for generating coherent and meaningful text."
      ],
      "metadata": {
        "id": "uiYA_uzItrcJ"
      }
    },
    {
      "cell_type": "markdown",
      "metadata": {
        "id": "MOeKrdFbyryU"
      },
      "source": [
        "4. Finally, calculate the perplexity for all models and reverse-models. Comment on the results and elaborate on your findings. __(0.5 points)__"
      ]
    },
    {
      "cell_type": "code",
      "execution_count": 15,
      "metadata": {
        "id": "qCbeOaMayryU"
      },
      "outputs": [],
      "source": [
        "def calculate_perplexity(ngrams, test_set, n):\n",
        "    perplexity = 1\n",
        "    N = 0  # Total number of words in the test set\n",
        "    for i in range(len(test_set) - n + 1):\n",
        "        prefix, next_word = tuple(test_set[i:i + n - 1]), test_set[i + n - 1]\n",
        "        prefix_prob = sum(ngrams[prefix].values())\n",
        "        word_prob = ngrams[prefix][next_word] / prefix_prob if prefix_prob > 0 else 0\n",
        "        perplexity *= (1 / word_prob) if word_prob > 0 else 1\n",
        "        N += 1\n",
        "    perplexity = pow(perplexity, 1 / N) if N > 0 else float('inf')\n",
        "    return perplexity"
      ]
    },
    {
      "cell_type": "code",
      "source": [
        "import random\n",
        "from collections import defaultdict, Counter\n",
        "from nltk import word_tokenize\n",
        "\n",
        "# Read the content from the file\n",
        "file_path = '/content/drive/MyDrive/MBA/Lucky Backup/MSDT/Synthesizing Digital Efforts/Assignment/Assignment No 1/Week1-ngrams.txt'  # Replace with the actual path to your file\n",
        "with open(file_path, 'r') as file:\n",
        "    content = file.read()\n",
        "\n",
        "# Tokenize the content into words\n",
        "words = word_tokenize(content)\n",
        "\n",
        "# Split the data into training and test sets, e.g., 80% training and 20% test\n",
        "train_size = int(0.8 * len(words))\n",
        "train_set = words[:train_size]\n",
        "test_set = words[train_size:]\n",
        "\n",
        "# Reverse the order of words in the training set\n",
        "reversed_train_set = train_set[::-1]\n",
        "\n",
        "# Function to create n-grams dictionary\n",
        "def create_ngrams(words, n):\n",
        "    ngrams = defaultdict(Counter)\n",
        "    for i in range(len(words) - n + 1):\n",
        "        prefix, next_word = tuple(words[i:i + n - 1]), words[i + n - 1]\n",
        "        ngrams[prefix][next_word] += 1\n",
        "    return ngrams\n",
        "\n",
        "# Function to calculate perplexity\n",
        "def calculate_perplexity(ngrams, test_set, n):\n",
        "    perplexity = 1\n",
        "    N = 0  # Total number of words in the test set\n",
        "    for i in range(len(test_set) - n + 1):\n",
        "        prefix, next_word = tuple(test_set[i:i + n - 1]), test_set[i + n - 1]\n",
        "        prefix_prob = sum(ngrams[prefix].values())\n",
        "        word_prob = ngrams[prefix][next_word] / prefix_prob if prefix_prob > 0 else 0\n",
        "        perplexity *= (1 / word_prob) if word_prob > 0 else 1\n",
        "        N += 1\n",
        "    perplexity = pow(perplexity, 1 / N) if N > 0 else float('inf')\n",
        "    return perplexity\n",
        "\n",
        "# Calculate perplexity for models and reverse-models with different n values\n",
        "n_values = [2, 3, 4, 5, 10]  # Different values of n for n-grams\n",
        "for n in n_values:\n",
        "    ngrams = create_ngrams(train_set, n)\n",
        "    reversed_ngrams = create_ngrams(reversed_train_set, n)\n",
        "\n",
        "    perplexity = calculate_perplexity(ngrams, test_set, n)\n",
        "    reversed_perplexity = calculate_perplexity(reversed_ngrams, test_set[::-1], n)\n",
        "\n",
        "    print(f\"Perplexity for {n}-gram model: {perplexity}\")\n",
        "    print(f\"Perplexity for reversed {n}-gram model: {reversed_perplexity}\\n\")\n"
      ],
      "metadata": {
        "colab": {
          "base_uri": "https://localhost:8080/",
          "height": 0
        },
        "id": "eVh4qA2gL-dn",
        "outputId": "d64ec62f-a550-4178-a1ec-54f85d923fd1"
      },
      "execution_count": 16,
      "outputs": [
        {
          "output_type": "stream",
          "name": "stdout",
          "text": [
            "Perplexity for 2-gram model: 1.1871507729352655\n",
            "Perplexity for reversed 2-gram model: 1.2527220658995355\n",
            "\n",
            "Perplexity for 3-gram model: 1.0165323701976245\n",
            "Perplexity for reversed 3-gram model: 1.0243123008098591\n",
            "\n",
            "Perplexity for 4-gram model: 1.0061623201796122\n",
            "Perplexity for reversed 4-gram model: 1.0\n",
            "\n",
            "Perplexity for 5-gram model: 1.0\n",
            "Perplexity for reversed 5-gram model: 1.0\n",
            "\n",
            "Perplexity for 10-gram model: 1.0\n",
            "Perplexity for reversed 10-gram model: 1.0\n",
            "\n"
          ]
        }
      ]
    },
    {
      "cell_type": "markdown",
      "source": [
        "The perplexity values you provided suggest several interesting observations about the n-gram and reversed n-gram models:\n",
        "\n",
        "1. Decreasing Perplexity with Increasing n:\n",
        "The perplexity decreases as the value of n increases, reaching 1.0 for both the regular and reversed models when n is 5 or above.\n",
        "This suggests that as the models consider more context (larger n), they become more confident in their predictions on the test set, possibly overfitting to the training data.\n",
        "2. Reversed vs Regular Models:\n",
        "The reversed models have slightly higher perplexity than the regular models for 2-gram and 3-gram models, but they eventually reach the same perplexity of 1.0 for higher values of n.\n",
        "This indicates that the direction in which the context is considered (left-to-right or right-to-left) has a minor impact on the model’s predictive accuracy on the test set for smaller n, but this difference disappears as n increases.\n",
        "3. Perplexity of 1.0 for Higher n Values:\n",
        "A perplexity of 1.0 for both regular and reversed models with n values of 5 and above suggests that these models are able to perfectly predict the test set, which is a strong indicator of overfitting.\n",
        "Overfitting occurs when the model is too complex, capturing noise in the training data as if it were a real pattern. This typically results in high accuracy on the training data but poor generalization to new, unseen data.\n",
        "4. Generalization and Practical Implications:\n",
        "While lower perplexity is generally desirable, a perplexity of 1.0 raises concerns about the model’s ability to generalize to truly unseen data, as it likely memorized the training data.\n",
        "In practical applications, it might be beneficial to use a smaller n to avoid overfitting, even if it results in higher perplexity, especially when the amount of training data is limited.\n",
        "5. Comparison Between Regular and Reversed Models:\n",
        "The minor differences in perplexity between regular and reversed models for smaller n values suggest that the choice between them might depend on specific use cases and requirements.\n",
        "For instance, if the generation of coherent and grammatically correct text is crucial, the direction in which the text is generated (using regular or reversed models) might play a significant role, and the choice might depend on the characteristics of the language and the text.\n",
        "Conclusion:\n",
        "These findings emphasize the importance of choosing the appropriate model complexity (value of n in n-grams) based on the available data and the specific requirements of the task. They also highlight the potential impact of the direction of context consideration on the model’s performance, especially for smaller context sizes. Balancing model complexity to avoid overfitting while maintaining predictive accuracy is crucial for developing effective and robust language models.\n",
        "\n",
        "\n",
        "\n",
        "\n"
      ],
      "metadata": {
        "id": "JPcdiqcKNVma"
      }
    }
  ],
  "metadata": {
    "kernelspec": {
      "display_name": "Python 3",
      "language": "python",
      "name": "python3"
    },
    "language_info": {
      "codemirror_mode": {
        "name": "ipython",
        "version": 3
      },
      "file_extension": ".py",
      "mimetype": "text/x-python",
      "name": "python",
      "nbconvert_exporter": "python",
      "pygments_lexer": "ipython3",
      "version": "3.10.12"
    },
    "colab": {
      "provenance": []
    }
  },
  "nbformat": 4,
  "nbformat_minor": 0
}